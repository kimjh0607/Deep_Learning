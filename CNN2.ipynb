{
  "nbformat": 4,
  "nbformat_minor": 0,
  "metadata": {
    "colab": {
      "provenance": [],
      "machine_shape": "hm",
      "gpuType": "V100",
      "cell_execution_strategy": "setup",
      "authorship_tag": "ABX9TyPIID3Ov2lv9ttjB6/oaj1n",
      "include_colab_link": true
    },
    "kernelspec": {
      "name": "python3",
      "display_name": "Python 3"
    },
    "language_info": {
      "name": "python"
    },
    "accelerator": "GPU"
  },
  "cells": [
    {
      "cell_type": "markdown",
      "metadata": {
        "id": "view-in-github",
        "colab_type": "text"
      },
      "source": [
        "<a href=\"https://colab.research.google.com/github/kimjh0607/Deep_Learning/blob/main/CNN2.ipynb\" target=\"_parent\"><img src=\"https://colab.research.google.com/assets/colab-badge.svg\" alt=\"Open In Colab\"/></a>"
      ]
    },
    {
      "cell_type": "markdown",
      "source": [
        "Backpropagation is a central algorithm in neural network training, allowing networks to learn from their errors and improve their performance. Let's discuss this process in detail, using the key terms you've listed.\n",
        "\n",
        "### 1. Forward Pass\n",
        "\n",
        "- **Process**: In the forward pass, input data is fed into the neural network. The data passes through the layers of the network, being transformed at each step by the weights and biases.\n",
        "- **Weights and Biases**: Weights are coefficients that amplify or dampen the input signal, and biases are additional terms that shift the output of the neuron up or down. Each neuron in a layer performs a weighted sum of its inputs, adds a bias, and then applies an activation function.\n",
        "- **Activation Function**: This function, like sigmoid or ReLU, introduces non-linearity into the network, allowing it to learn complex patterns.\n",
        "- **Output**: The final output is the prediction of the network based on the current weights and biases. It's the result of processing the input data through all layers of the network.\n",
        "\n",
        "### 2. Loss Calculation\n",
        "\n",
        "- **Definition**: Loss is a measure of how far the network's prediction is from the actual desired outcome. It quantifies the error the network needs to correct.\n",
        "- **Common Loss Functions**: Mean Squared Error for regression tasks, Cross-Entropy for classification tasks.\n",
        "\n",
        "### 3. Backward Pass\n",
        "\n",
        "- **Overview**: During the backward pass, the network adjusts its weights and biases to reduce the loss. This process involves computing gradients (rates of change) of the loss with respect to each weight and bias.\n",
        "- **Delta**: This term often refers to the error at each neuron (difference between the expected and actual outputs). In the context of backpropagation, it represents the gradient of the loss with respect to the neuron's output.\n",
        "- **Partial Derivatives and Chain Rule**: To find out how to adjust weights and biases, we compute partial derivatives of the loss with respect to these parameters. The chain rule from calculus is crucial here, as it allows us to understand how changing a weight or bias affects the overall loss, considering the entire network's complexity.\n",
        "- **Gradient Descent**: This is the process of adjusting weights and biases in the opposite direction of their gradients to minimize the loss.\n",
        "\n",
        "### 4. Gradient Descent\n",
        "\n",
        "- **Learning Rate**: A key parameter in gradient descent. It determines the size of the steps taken towards minimizing the loss. Too large a learning rate can overshoot the minimum, while too small a learning rate makes the process very slow.\n",
        "- **Update Rule**: We update each weight and bias by subtracting the product of its gradient and the learning rate. This is based on the principle that the gradient points in the direction of the steepest increase of the loss function, so we want to go the opposite way.\n",
        "\n",
        "### 5. Iterative Optimization\n",
        "\n",
        "- **Epochs**: The process of forward pass, loss calculation, backward pass, and updating weights and biases is repeated over multiple iterations, known as epochs, until the network's performance is satisfactory.\n",
        "- **Convergence**: Ideally, with each epoch, the loss decreases, indicating that the network's predictions are getting closer to the actual targets.\n",
        "\n",
        "### 6. Challenges and Solutions\n",
        "\n",
        "- **Vanishing and Exploding Gradients**: When gradients become too small or too large, making learning ineffective. Solutions include using different activation functions, batch normalization, and careful initialization of weights.\n",
        "- **Overfitting**: When a network learns the training data too well, including the noise, at the expense of its performance on new data. Regularization techniques and dropout can help mitigate this.\n",
        "\n",
        "### Conclusion\n",
        "\n",
        "Backpropagation is a complex yet elegant process that enables neural networks to learn from their errors. By iteratively adjusting weights and biases based on the loss gradient, a neural network can improve its performance, making it an essential mechanism in the field of machine learning. The process requires careful balancing of parameters like learning rate and involves dealing with challenges such as vanishing gradients and overfitting to ensure effective learning."
      ],
      "metadata": {
        "id": "09d1gY8nPSO-"
      }
    },
    {
      "cell_type": "markdown",
      "source": [
        "역전파는 신경망 훈련의 핵심 알고리즘으로, 네트워크가 오류로부터 학습하고 성능을 향상시킬 수 있도록 해줍니다. 나열된 주요 용어를 사용하여 이 프로세스를 자세히 논의해 보겠습니다.\n",
        "\n",
        "1. 포워드 패스\n",
        "프로세스: 순방향 전달에서는 입력 데이터가 신경망에 공급됩니다. 데이터는 네트워크 계층을 통과하며 각 단계에서 가중치와 편향에 의해 변환됩니다.\n",
        "가중치 및 편향: 가중치는 입력 신호를 증폭하거나 약화시키는 계수이며, 편향은 뉴런의 출력을 위나 아래로 이동시키는 추가 용어입니다. 레이어의 각 뉴런은 입력의 가중 합계를 수행하고 편향을 추가한 다음 활성화 함수를 적용합니다.\n",
        "활성화 함수: 이 함수는 시그모이드 또는 ReLU와 마찬가지로 네트워크에 비선형성을 도입하여 복잡한 패턴을 학습할 수 있습니다.\n",
        "출력: 최종 출력은 현재 가중치와 편향을 기반으로 한 네트워크 예측입니다. 이는 네트워크의 모든 계층을 통해 입력 데이터를 처리한 결과입니다.\n",
        "2. 손실 계산\n",
        "정의: 손실은 네트워크의 예측이 실제 원하는 결과와 얼마나 떨어져 있는지를 측정한 것입니다. 이는 네트워크가 수정해야 하는 오류를 수량화합니다.\n",
        "공통 손실 함수: 회귀 작업의 경우 평균 제곱 오차, 분류 작업의 경우 교차 엔트로피.\n",
        "3. 백워드 패스\n",
        "개요: 역방향 전달 중에 네트워크는 가중치와 편향을 조정하여 손실을 줄입니다. 이 프로세스에는 각 가중치 및 편향에 대한 손실의 기울기(변화율)를 계산하는 작업이 포함됩니다.\n",
        "델타: 이 용어는 종종 각 뉴런의 오류(예상 출력과 실제 출력 간의 차이)를 나타냅니다. 역전파의 맥락에서 이는 뉴런의 출력에 대한 손실의 기울기를 나타냅니다.\n",
        "부분 도함수 및 체인 규칙: 가중치와 편향을 조정하는 방법을 알아보기 위해 이러한 매개변수와 관련하여 손실의 부분 도함수를 계산합니다. 미적분학의 체인 규칙은 전체 네트워크의 복잡성을 고려하여 가중치 또는 편향 변경이 전체 손실에 어떻게 영향을 미치는지 이해할 수 있도록 해주기 때문에 여기서 매우 중요합니다.\n",
        "경사하강법: 손실을 최소화하기 위해 가중치와 편향을 기울기의 반대 방향으로 조정하는 프로세스입니다.\n",
        "4. 경사하강법\n",
        "학습률: 경사하강법의 핵심 매개변수입니다. 손실을 최소화하기 위해 취하는 조치의 크기를 결정합니다. 학습률이 너무 크면 최소값을 초과할 수 있고, 학습률이 너무 작으면 프로세스가 매우 느려집니다.\n",
        "업데이트 규칙: 기울기와 학습률의 곱을 빼서 각 가중치와 편향을 업데이트합니다. 이는 기울기가 손실 함수의 가장 가파른 증가 방향을 가리킨다는 원리에 기초하므로 우리는 반대 방향으로 가고 싶습니다.\n",
        "5. 반복 최적화\n",
        "에포크: 네트워크 성능이 만족스러울 때까지 정방향 전달, 손실 계산, 역방향 전달, 가중치 및 편향 업데이트 프로세스가 에포크라고 알려진 여러 반복에 걸쳐 반복됩니다.\n",
        "수렴: 이상적으로 각 시대마다 손실이 감소하여 네트워크의 예측이 실제 목표에 가까워지고 있음을 나타냅니다.\n",
        "6. 과제와 솔루션\n",
        "그라디언트 소멸 및 폭발: 그라디언트가 너무 작거나 커져 학습 효과가 떨어지는 경우입니다. 솔루션에는 다양한 활성화 기능 사용, 배치 정규화 및 신중한 가중치 초기화가 포함됩니다.\n",
        "과적합: 네트워크가 새로운 데이터에 대한 성능을 희생하면서 잡음을 포함하여 훈련 데이터를 너무 잘 학습하는 경우입니다. 정규화 기술과 드롭아웃은 이를 완화하는 데 도움이 될 수 있습니다.\n",
        "결론\n",
        "역전파는 신경망이 오류로부터 학습할 수 있도록 하는 복잡하면서도 우아한 프로세스입니다. 손실 기울기에 따라 가중치와 편향을 반복적으로 조정함으로써 신경망은 성능을 향상시킬 수 있으므로 기계 학습 분야의 필수 메커니즘이 됩니다. 이 프로세스에는 학습률과 같은 매개변수의 신중한 균형이 필요하며 효과적인 학습을 보장하기 위해 기울기 소멸 및 과적합과 같은 문제를 처리하는 작업이 포함됩니다."
      ],
      "metadata": {
        "id": "jC0fGbmJPZ0u"
      }
    },
    {
      "cell_type": "code",
      "execution_count": 1,
      "metadata": {
        "colab": {
          "base_uri": "https://localhost:8080/",
          "height": 0
        },
        "id": "Yf2gEUKsAUuL",
        "outputId": "376af9b8-f899-4a01-bce3-618ea2f4e8b7"
      },
      "outputs": [
        {
          "output_type": "stream",
          "name": "stdout",
          "text": [
            "Downloading data from https://storage.googleapis.com/tensorflow/tf-keras-datasets/mnist.npz\n",
            "11490434/11490434 [==============================] - 1s 0us/step\n"
          ]
        }
      ],
      "source": [
        "import tensorflow as tf\n",
        "\n",
        "mnist = tf.keras.datasets.mnist\n",
        "\n",
        "(x_train, y_train), (x_test, y_test) = mnist.load_data()\n",
        "X_train, X_test = x_train/255, x_test/255\n",
        "\n",
        "X_train = X_train.reshape((60000,28,28,1))\n",
        "X_test = X_test.reshape((10000,28,28,1))"
      ]
    },
    {
      "cell_type": "code",
      "source": [
        "from tensorflow.keras import layers, models\n",
        "\n",
        "model = models.Sequential([\n",
        "    layers.Conv2D(3, kernel_size=(3,3), strides=(1,1), # 첫번째 숫자 : 특성을 3개만 보겠다.\n",
        "                  padding='same', activation='relu',input_shape=(28,28,1)),\n",
        "    layers.MaxPool2D(pool_size=(2,2), strides=(2,2)),\n",
        "    layers.Dropout(0.25),\n",
        "    layers.Flatten(),\n",
        "    layers.Dense(1000, activation='relu'),\n",
        "    layers.Dense(10, activation='softmax')\n",
        "])"
      ],
      "metadata": {
        "id": "joers4HKA1bz"
      },
      "execution_count": 3,
      "outputs": []
    },
    {
      "cell_type": "code",
      "source": [
        "model.summary()"
      ],
      "metadata": {
        "colab": {
          "base_uri": "https://localhost:8080/",
          "height": 0
        },
        "id": "gq2I69PKD6Ra",
        "outputId": "3d9bca24-f7ee-4a45-e4df-9ae1710b7e58"
      },
      "execution_count": 5,
      "outputs": [
        {
          "output_type": "stream",
          "name": "stdout",
          "text": [
            "Model: \"sequential\"\n",
            "_________________________________________________________________\n",
            " Layer (type)                Output Shape              Param #   \n",
            "=================================================================\n",
            " conv2d (Conv2D)             (None, 28, 28, 3)         30        \n",
            "                                                                 \n",
            " max_pooling2d (MaxPooling2  (None, 14, 14, 3)         0         \n",
            " D)                                                              \n",
            "                                                                 \n",
            " dropout (Dropout)           (None, 14, 14, 3)         0         \n",
            "                                                                 \n",
            " flatten (Flatten)           (None, 588)               0         \n",
            "                                                                 \n",
            " dense (Dense)               (None, 1000)              589000    \n",
            "                                                                 \n",
            " dense_1 (Dense)             (None, 10)                10010     \n",
            "                                                                 \n",
            "=================================================================\n",
            "Total params: 599040 (2.29 MB)\n",
            "Trainable params: 599040 (2.29 MB)\n",
            "Non-trainable params: 0 (0.00 Byte)\n",
            "_________________________________________________________________\n"
          ]
        }
      ]
    },
    {
      "cell_type": "code",
      "source": [
        "model.layers"
      ],
      "metadata": {
        "colab": {
          "base_uri": "https://localhost:8080/",
          "height": 0
        },
        "id": "RhlJeadOJjeO",
        "outputId": "86a25aed-c3fe-43cc-f2a7-b9321863f118"
      },
      "execution_count": 6,
      "outputs": [
        {
          "output_type": "execute_result",
          "data": {
            "text/plain": [
              "[<keras.src.layers.convolutional.conv2d.Conv2D at 0x7d056c0bb160>,\n",
              " <keras.src.layers.pooling.max_pooling2d.MaxPooling2D at 0x7d056c0ba830>,\n",
              " <keras.src.layers.regularization.dropout.Dropout at 0x7d056c0bada0>,\n",
              " <keras.src.layers.reshaping.flatten.Flatten at 0x7d05fbe7d270>,\n",
              " <keras.src.layers.core.dense.Dense at 0x7d05fbe7cca0>,\n",
              " <keras.src.layers.core.dense.Dense at 0x7d05fbe7c340>]"
            ]
          },
          "metadata": {},
          "execution_count": 6
        }
      ]
    },
    {
      "cell_type": "code",
      "source": [
        "conv = model.layers[0]\n",
        "conv_weights = conv.weights[0].numpy()\n",
        "conv_weights.mean(), conv_weights.std()"
      ],
      "metadata": {
        "colab": {
          "base_uri": "https://localhost:8080/",
          "height": 0
        },
        "id": "sYshmvFJJ8iI",
        "outputId": "85732fa4-17be-4cf6-c1c0-2b14fe90a8f1"
      },
      "execution_count": 7,
      "outputs": [
        {
          "output_type": "execute_result",
          "data": {
            "text/plain": [
              "(0.060175095, 0.24734613)"
            ]
          },
          "metadata": {},
          "execution_count": 7
        }
      ]
    },
    {
      "cell_type": "code",
      "source": [
        "type(conv_weights[0])"
      ],
      "metadata": {
        "colab": {
          "base_uri": "https://localhost:8080/",
          "height": 0
        },
        "id": "151zsfaQJ8fv",
        "outputId": "b85da874-dab0-4fa6-b799-43fdc52c0a08"
      },
      "execution_count": 13,
      "outputs": [
        {
          "output_type": "execute_result",
          "data": {
            "text/plain": [
              "numpy.ndarray"
            ]
          },
          "metadata": {},
          "execution_count": 13
        }
      ]
    },
    {
      "cell_type": "code",
      "source": [
        "conv_weights[:,:,0,0], conv_weights[:,:,0,1], conv_weights[:,:,0,2]"
      ],
      "metadata": {
        "colab": {
          "base_uri": "https://localhost:8080/"
        },
        "id": "QaicqGrhOl-i",
        "outputId": "7db4164c-50d5-4a63-9be9-69aff10a4574"
      },
      "execution_count": 21,
      "outputs": [
        {
          "output_type": "execute_result",
          "data": {
            "text/plain": [
              "(array([[ 0.00576031,  0.1793406 ,  0.10864478],\n",
              "        [-0.32996202,  0.36219227,  0.0443553 ],\n",
              "        [ 0.2817145 , -0.08591485,  0.06068218]], dtype=float32),\n",
              " array([[-0.3911289 ,  0.2826389 ,  0.37573022],\n",
              "        [ 0.21106416,  0.19589418, -0.08785656],\n",
              "        [-0.25509688,  0.35982716,  0.00096536]], dtype=float32),\n",
              " array([[ 0.21799737, -0.22212198, -0.23717897],\n",
              "        [ 0.3939196 , -0.2723065 ,  0.25802535],\n",
              "        [ 0.39997333,  0.081193  , -0.31362438]], dtype=float32))"
            ]
          },
          "metadata": {},
          "execution_count": 21
        }
      ]
    },
    {
      "cell_type": "code",
      "source": [
        "import matplotlib.pyplot as plt\n",
        "plt.hist(conv_weights.reshape(-1,1))\n",
        "plt.xlabel('weights')\n",
        "plt.ylabel('count')\n",
        "plt.show()"
      ],
      "metadata": {
        "colab": {
          "base_uri": "https://localhost:8080/",
          "height": 449
        },
        "id": "O28T4eGIJ8de",
        "outputId": "c0b1c8c6-1fa2-4bb2-aab2-bad69714d58d"
      },
      "execution_count": 15,
      "outputs": [
        {
          "output_type": "display_data",
          "data": {
            "text/plain": [
              "<Figure size 640x480 with 1 Axes>"
            ],
            "image/png": "[encoded data removed]"
          },
          "metadata": {}
        }
      ]
    },
    {
      "cell_type": "code",
      "source": [
        "fig, ax = plt.subplots(1,3, figsize=(15,5))\n",
        "for i in range(3):\n",
        "  ax[i].imshow(conv_weights[:,:,0,i], vmin=-0.5, vmax=0.5)\n",
        "  ax[i].axis('off')\n",
        "\n",
        "plt.show()"
      ],
      "metadata": {
        "colab": {
          "base_uri": "https://localhost:8080/",
          "height": 378
        },
        "id": "QNwbYwDZJ8Sb",
        "outputId": "1e92ad0e-986a-4c2b-d863-fa2525f3ee97"
      },
      "execution_count": 16,
      "outputs": [
        {
          "output_type": "display_data",
          "data": {
            "text/plain": [
              "<Figure size 1500x500 with 3 Axes>"
            ],
            "image/png": "[encoded data removed]"
          },
          "metadata": {}
        }
      ]
    },
    {
      "cell_type": "code",
      "source": [
        "%%time\n",
        "model.compile(\n",
        "    optimizer='adam',\n",
        "    loss='sparse_categorical_crossentropy',\n",
        "    metrics=['accuracy']\n",
        ")\n",
        "\n",
        "hist = model.fit(X_train, y_train, epochs=5, verbose=1, validation_data=(X_test, y_test))\n",
        "''' **옵티마이저, **손실함수, **평가지표 설정 후 **피팅, **epoch설정\n",
        "'''"
      ],
      "metadata": {
        "colab": {
          "base_uri": "https://localhost:8080/"
        },
        "id": "CcRrKf2XJ8RT",
        "outputId": "9a3b7e56-8d4f-4448-f7ce-52c8aac68077"
      },
      "execution_count": 22,
      "outputs": [
        {
          "output_type": "stream",
          "name": "stdout",
          "text": [
            "Epoch 1/5\n",
            "1875/1875 [==============================] - 17s 3ms/step - loss: 0.2550 - accuracy: 0.9212 - val_loss: 0.1180 - val_accuracy: 0.9652\n",
            "Epoch 2/5\n",
            "1875/1875 [==============================] - 6s 3ms/step - loss: 0.1240 - accuracy: 0.9602 - val_loss: 0.0715 - val_accuracy: 0.9767\n",
            "Epoch 3/5\n",
            "1875/1875 [==============================] - 6s 3ms/step - loss: 0.0918 - accuracy: 0.9706 - val_loss: 0.0611 - val_accuracy: 0.9805\n",
            "Epoch 4/5\n",
            "1875/1875 [==============================] - 7s 3ms/step - loss: 0.0775 - accuracy: 0.9743 - val_loss: 0.0643 - val_accuracy: 0.9771\n",
            "Epoch 5/5\n",
            "1875/1875 [==============================] - 6s 3ms/step - loss: 0.0627 - accuracy: 0.9790 - val_loss: 0.0518 - val_accuracy: 0.9831\n",
            "CPU times: user 40.6 s, sys: 5.04 s, total: 45.6 s\n",
            "Wall time: 42.4 s\n"
          ]
        }
      ]
    },
    {
      "cell_type": "code",
      "source": [
        "fig, ax = plt.subplots(1,3, figsize=(15,5))\n",
        "for i in range(3):\n",
        "  ax[i].imshow(conv_weights[:,:,0,i], vmin=-0.5, vmax=0.5)\n",
        "  ax[i].axis('off')\n",
        "\n",
        "plt.show()"
      ],
      "metadata": {
        "colab": {
          "base_uri": "https://localhost:8080/",
          "height": 378
        },
        "id": "Qkqh1nRJJ8Qn",
        "outputId": "600ecdef-1ab8-44f2-f43d-189202a67028"
      },
      "execution_count": 23,
      "outputs": [
        {
          "output_type": "display_data",
          "data": {
            "text/plain": [
              "<Figure size 1500x500 with 3 Axes>"
            ],
            "image/png": "[encoded data removed]"
          },
          "metadata": {}
        }
      ]
    },
    {
      "cell_type": "code",
      "source": [
        "plt.imshow(X_train[0], cmap='gray')"
      ],
      "metadata": {
        "colab": {
          "base_uri": "https://localhost:8080/",
          "height": 447
        },
        "id": "EEwzxnxhP75k",
        "outputId": "410999b8-99c4-411f-95c9-1ed35ec083f5"
      },
      "execution_count": 25,
      "outputs": [
        {
          "output_type": "execute_result",
          "data": {
            "text/plain": [
              "<matplotlib.image.AxesImage at 0x7d04c4d5bb50>"
            ]
          },
          "metadata": {},
          "execution_count": 25
        },
        {
          "output_type": "display_data",
          "data": {
            "text/plain": [
              "<Figure size 640x480 with 1 Axes>"
            ],
            "image/png": "[encoded data removed]"
          },
          "metadata": {}
        }
      ]
    },
    {
      "cell_type": "code",
      "source": [
        "inputs = X_train[0].reshape(-1,28,28,1)\n",
        "conv_layer_output = tf.keras.Model(model.input, model.layers[0].output)\n",
        "conv_layer_output.summary()"
      ],
      "metadata": {
        "colab": {
          "base_uri": "https://localhost:8080/"
        },
        "id": "iYo8IcWxP8mf",
        "outputId": "9fab9e23-689f-4803-b5e5-680dbc7028da"
      },
      "execution_count": 27,
      "outputs": [
        {
          "output_type": "stream",
          "name": "stdout",
          "text": [
            "Model: \"model_1\"\n",
            "_________________________________________________________________\n",
            " Layer (type)                Output Shape              Param #   \n",
            "=================================================================\n",
            " conv2d_input (InputLayer)   [(None, 28, 28, 1)]       0         \n",
            "                                                                 \n",
            " conv2d (Conv2D)             (None, 28, 28, 3)         30        \n",
            "                                                                 \n",
            "=================================================================\n",
            "Total params: 30 (120.00 Byte)\n",
            "Trainable params: 30 (120.00 Byte)\n",
            "Non-trainable params: 0 (0.00 Byte)\n",
            "_________________________________________________________________\n"
          ]
        }
      ]
    },
    {
      "cell_type": "code",
      "source": [
        "feature_maps = conv_layer_output.predict(inputs)\n",
        "feature_maps.shape"
      ],
      "metadata": {
        "colab": {
          "base_uri": "https://localhost:8080/"
        },
        "id": "jxXURvXHP9Fs",
        "outputId": "04a2e3e2-1cbd-43a8-bee4-82df75f9d52f"
      },
      "execution_count": 28,
      "outputs": [
        {
          "output_type": "stream",
          "name": "stdout",
          "text": [
            "1/1 [==============================] - 0s 63ms/step\n"
          ]
        },
        {
          "output_type": "execute_result",
          "data": {
            "text/plain": [
              "(1, 28, 28, 3)"
            ]
          },
          "metadata": {},
          "execution_count": 28
        }
      ]
    },
    {
      "cell_type": "markdown",
      "source": [
        "## **conv_weights: 이는 신경망의 컨볼루셔널 레이어의 가중치를 나타내는 배열일 가능성이 높습니다. CNN에서는 가중치를 종종 필터 또는 커널이라고 합니다.**"
      ],
      "metadata": {
        "id": "U14xe8JvUbM1"
      }
    },
    {
      "cell_type": "code",
      "source": [
        "feature_maps[0,:,:,0].shape"
      ],
      "metadata": {
        "colab": {
          "base_uri": "https://localhost:8080/"
        },
        "id": "KyADqB9wMv3z",
        "outputId": "ee1af60d-97f8-4d07-c881-ea61126c7377"
      },
      "execution_count": 30,
      "outputs": [
        {
          "output_type": "execute_result",
          "data": {
            "text/plain": [
              "(28, 28)"
            ]
          },
          "metadata": {},
          "execution_count": 30
        }
      ]
    },
    {
      "cell_type": "code",
      "source": [
        "fig, ax = plt.subplots(1,3, figsize=(15,5))\n",
        "for i in range(3):\n",
        "  ax[i].imshow(feature_maps[0,:,:,i]) # 나타나는 것들은 이런 채널?마다? 이러한 특성들을 보고 있다고 보면 된다.\n",
        "  ax[i].axis('off')\n",
        "\n",
        "plt.show()"
      ],
      "metadata": {
        "colab": {
          "base_uri": "https://localhost:8080/",
          "height": 378
        },
        "id": "Uiu3DenfM4ZR",
        "outputId": "a5c45518-e69e-41fb-ce29-e02abcbd36fd"
      },
      "execution_count": 31,
      "outputs": [
        {
          "output_type": "display_data",
          "data": {
            "text/plain": [
              "<Figure size 1500x500 with 3 Axes>"
            ],
            "image/png": "[encoded data removed]"
          },
          "metadata": {}
        }
      ]
    },
    {
      "cell_type": "code",
      "source": [
        "def draw_feature_maps(n):\n",
        "  inputs = X_train[n].reshape(-1, 28, 28, 1)\n",
        "  feature_maps = conv_layer_output.predict(inputs)\n",
        "\n",
        "  fig, ax = plt.subplots(1,4, figsize=(15,5))\n",
        "\n",
        "  ax[0].imshow(inputs[0,:,:,0], cmap='gray')\n",
        "\n",
        "  for i in range(1,4):\n",
        "    ax[i].imshow(feature_maps[0,:,:,i-1])\n",
        "    ax[i].axis('off')\n",
        "\n",
        "plt.show()"
      ],
      "metadata": {
        "id": "Sd7ikTxXMv1x"
      },
      "execution_count": 32,
      "outputs": []
    },
    {
      "cell_type": "code",
      "source": [
        "draw_feature_maps(5) # 나타나는 것들은 이런 채널?마다? 이러한 특성들을 보고 있다고 보면 된다."
      ],
      "metadata": {
        "colab": {
          "base_uri": "https://localhost:8080/",
          "height": 331
        },
        "id": "Q30LzT9bMvz4",
        "outputId": "7ed3e23d-a6bf-4a69-fa30-9283d5c45de0"
      },
      "execution_count": 35,
      "outputs": [
        {
          "output_type": "stream",
          "name": "stdout",
          "text": [
            "1/1 [==============================] - 0s 18ms/step\n"
          ]
        },
        {
          "output_type": "display_data",
          "data": {
            "text/plain": [
              "<Figure size 1500x500 with 4 Axes>"
            ],
            "image/png": "[encoded data removed]"
          },
          "metadata": {}
        }
      ]
    },
    {
      "cell_type": "code",
      "source": [
        "draw_feature_maps(15)"
      ],
      "metadata": {
        "colab": {
          "base_uri": "https://localhost:8080/",
          "height": 331
        },
        "id": "oNR49a22Mvxh",
        "outputId": "d5e66ded-4012-46b3-c119-a940803eba6c"
      },
      "execution_count": 36,
      "outputs": [
        {
          "output_type": "stream",
          "name": "stdout",
          "text": [
            "1/1 [==============================] - 0s 19ms/step\n"
          ]
        },
        {
          "output_type": "display_data",
          "data": {
            "text/plain": [
              "<Figure size 1500x500 with 4 Axes>"
            ],
            "image/png": "[encoded data removed]"
          },
          "metadata": {}
        }
      ]
    },
    {
      "cell_type": "code",
      "source": [
        "model1 = models.Sequential([\n",
        "    layers.Conv2D(8, kernel_size=(3,3), strides=(1,1), # 첫번째 숫자(채널) : 특성을 8개 보겠다.\n",
        "                  padding='same', activation='relu',input_shape=(28,28,1)),\n",
        "    layers.MaxPool2D(pool_size=(2,2), strides=(2,2)),\n",
        "    layers.Dropout(0.25),\n",
        "    layers.Flatten(),\n",
        "    layers.Dense(1000, activation='relu'),\n",
        "    layers.Dense(10, activation='softmax')\n",
        "])"
      ],
      "metadata": {
        "id": "Hs8dRsPcWMWI"
      },
      "execution_count": 37,
      "outputs": []
    },
    {
      "cell_type": "code",
      "source": [
        "%%time\n",
        "model1.compile(\n",
        "    optimizer='adam',\n",
        "    loss='sparse_categorical_crossentropy',\n",
        "    metrics=['accuracy']\n",
        ")\n",
        "\n",
        "hist = model1.fit(X_train, y_train, epochs=5, verbose=2, validation_data=(X_test, y_test))"
      ],
      "metadata": {
        "colab": {
          "base_uri": "https://localhost:8080/"
        },
        "id": "dHGmyWFIWb_r",
        "outputId": "bfc9b702-ce8a-44cf-b1ad-ca3c378aba94"
      },
      "execution_count": 40,
      "outputs": [
        {
          "output_type": "stream",
          "name": "stdout",
          "text": [
            "Epoch 1/5\n",
            "1875/1875 - 6s - loss: 0.1829 - accuracy: 0.9446 - val_loss: 0.0714 - val_accuracy: 0.9781 - 6s/epoch - 3ms/step\n",
            "Epoch 2/5\n",
            "1875/1875 - 5s - loss: 0.0745 - accuracy: 0.9761 - val_loss: 0.0462 - val_accuracy: 0.9843 - 5s/epoch - 3ms/step\n",
            "Epoch 3/5\n",
            "1875/1875 - 5s - loss: 0.0531 - accuracy: 0.9829 - val_loss: 0.0517 - val_accuracy: 0.9837 - 5s/epoch - 3ms/step\n",
            "Epoch 4/5\n",
            "1875/1875 - 5s - loss: 0.0410 - accuracy: 0.9868 - val_loss: 0.0451 - val_accuracy: 0.9855 - 5s/epoch - 3ms/step\n",
            "Epoch 5/5\n",
            "1875/1875 - 5s - loss: 0.0322 - accuracy: 0.9895 - val_loss: 0.0433 - val_accuracy: 0.9870 - 5s/epoch - 3ms/step\n",
            "CPU times: user 32.6 s, sys: 3.53 s, total: 36.2 s\n",
            "Wall time: 27.2 s\n"
          ]
        }
      ]
    },
    {
      "cell_type": "code",
      "source": [
        "conv_layer_output = tf.keras.Model(model1.input, model1.layers[0].output)\n",
        "\n",
        "def draw_feature_maps(n):\n",
        "  inputs = X_train[n].reshape(-1, 28, 28, 1)\n",
        "  feature_maps = conv_layer_output.predict(inputs)\n",
        "\n",
        "  fig, ax = plt.subplots(1,9, figsize=(15,5))\n",
        "\n",
        "  ax[0].imshow(inputs[0,:,:,0], cmap='gray')\n",
        "\n",
        "  for i in range(1,9):\n",
        "    ax[i].imshow(feature_maps[0,:,:,i-1])\n",
        "    ax[i].axis('off')\n",
        "\n",
        "plt.show()"
      ],
      "metadata": {
        "id": "WXTxJDb8Wb9x"
      },
      "execution_count": 41,
      "outputs": []
    },
    {
      "cell_type": "code",
      "source": [
        "draw_feature_maps(1) # 나타나는 것들은 이런 채널?마다? 이러한 특성들을 보고 있다고 보면 된다."
      ],
      "metadata": {
        "colab": {
          "base_uri": "https://localhost:8080/",
          "height": 190
        },
        "id": "P4wthCCSXQ4G",
        "outputId": "903344f4-4683-4fa8-9da7-c49573a45973"
      },
      "execution_count": 42,
      "outputs": [
        {
          "output_type": "stream",
          "name": "stdout",
          "text": [
            "1/1 [==============================] - 0s 46ms/step\n"
          ]
        },
        {
          "output_type": "display_data",
          "data": {
            "text/plain": [
              "<Figure size 1500x500 with 9 Axes>"
            ],
            "image/png": "[encoded data removed]"
          },
          "metadata": {}
        }
      ]
    },
    {
      "cell_type": "code",
      "source": [
        "draw_feature_maps(13)"
      ],
      "metadata": {
        "colab": {
          "base_uri": "https://localhost:8080/",
          "height": 190
        },
        "id": "17s5ZIh5XQ1z",
        "outputId": "bde29323-e465-4416-d331-cca91d57f531"
      },
      "execution_count": 43,
      "outputs": [
        {
          "output_type": "stream",
          "name": "stdout",
          "text": [
            "1/1 [==============================] - 0s 18ms/step\n"
          ]
        },
        {
          "output_type": "display_data",
          "data": {
            "text/plain": [
              "<Figure size 1500x500 with 9 Axes>"
            ],
            "image/png": "[encoded data removed]"
          },
          "metadata": {}
        }
      ]
    },
    {
      "cell_type": "code",
      "source": [],
      "metadata": {
        "id": "Tj5my2i3XQzk"
      },
      "execution_count": null,
      "outputs": []
    },
    {
      "cell_type": "code",
      "source": [],
      "metadata": {
        "id": "wDq7FkmQWb5o"
      },
      "execution_count": null,
      "outputs": []
    },
    {
      "cell_type": "code",
      "source": [],
      "metadata": {
        "id": "U2HbqUUxWb3p"
      },
      "execution_count": null,
      "outputs": []
    },
    {
      "cell_type": "code",
      "source": [],
      "metadata": {
        "id": "TFyruShhWb1h"
      },
      "execution_count": null,
      "outputs": []
    },
    {
      "cell_type": "code",
      "source": [],
      "metadata": {
        "id": "PmvUTvQuWbza"
      },
      "execution_count": null,
      "outputs": []
    }
  ]
}