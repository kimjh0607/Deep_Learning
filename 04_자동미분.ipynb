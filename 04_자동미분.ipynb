{
  "cells": [
    {
      "cell_type": "markdown",
      "metadata": {
        "id": "view-in-github",
        "colab_type": "text"
      },
      "source": [
        "<a href=\"https://colab.research.google.com/github/kimjh0607/Deep_Learning/blob/main/04_%EC%9E%90%EB%8F%99%EB%AF%B8%EB%B6%84.ipynb\" target=\"_parent\"><img src=\"https://colab.research.google.com/assets/colab-badge.svg\" alt=\"Open In Colab\"/></a>"
      ]
    },
    {
      "cell_type": "markdown",
      "id": "375144cc",
      "metadata": {
        "school_cell_uuid": "c878fc07fcc14b6994e915f2c7fe77f5",
        "id": "375144cc"
      },
      "source": [
        "## 자동 미분"
      ]
    },
    {
      "cell_type": "code",
      "execution_count": 1,
      "id": "78da0d9a",
      "metadata": {
        "id": "78da0d9a"
      },
      "outputs": [],
      "source": [
        "import tensorflow as tf"
      ]
    },
    {
      "cell_type": "markdown",
      "id": "5b095191",
      "metadata": {
        "school_cell_uuid": "70e9d8ece68040349072fa52c2daea0b",
        "id": "5b095191"
      },
      "source": [
        "텐서플로의 자동 미분\n",
        "\n",
        "##### `tf.GradientTape`\n",
        "\n",
        "tf.GradientTape는 컨텍스트(context) 안에서 실행된 모든 연산을 테이프(tape)에 \"기록\".\n",
        "\n",
        "그 다음 텐서플로는 후진 방식 자동 미분(reverse mode differentiation)을 사용해 테이프에 \"기록된\" 연산의 그래디언트를 계산합니다.\n"
      ]
    },
    {
      "cell_type": "markdown",
      "id": "e1a7d24a",
      "metadata": {
        "id": "e1a7d24a"
      },
      "source": [
        "* Scalar 를 Scalar로 미분"
      ]
    },
    {
      "cell_type": "code",
      "execution_count": 2,
      "id": "dbef8c45",
      "metadata": {
        "school_cell_uuid": "73ed72bac16748f79399f90cf7612a60",
        "scrolled": false,
        "id": "dbef8c45"
      },
      "outputs": [],
      "source": [
        "x = tf.Variable(3.0)\n",
        "\n",
        "with tf.GradientTape() as tape:\n",
        "    y = x**2"
      ]
    },
    {
      "cell_type": "code",
      "execution_count": 3,
      "id": "8d30aa8d",
      "metadata": {
        "colab": {
          "base_uri": "https://localhost:8080/"
        },
        "id": "8d30aa8d",
        "outputId": "f1fd8878-5f96-4bdf-a763-93eb0b60338a"
      },
      "outputs": [
        {
          "output_type": "execute_result",
          "data": {
            "text/plain": [
              "<tf.Tensor: shape=(), dtype=float32, numpy=9.0>"
            ]
          },
          "metadata": {},
          "execution_count": 3
        }
      ],
      "source": [
        "y"
      ]
    },
    {
      "cell_type": "code",
      "execution_count": 4,
      "id": "5b5bb4af",
      "metadata": {
        "colab": {
          "base_uri": "https://localhost:8080/"
        },
        "id": "5b5bb4af",
        "outputId": "d8419ccc-ec92-40f3-ec6b-1e0681c7afac"
      },
      "outputs": [
        {
          "output_type": "execute_result",
          "data": {
            "text/plain": [
              "6.0"
            ]
          },
          "metadata": {},
          "execution_count": 4
        }
      ],
      "source": [
        "# dy = 2x * dx\n",
        "dy_dx = tape.gradient(y, x)\n",
        "dy_dx.numpy()"
      ]
    },
    {
      "cell_type": "markdown",
      "id": "2b1ec0d2",
      "metadata": {
        "id": "2b1ec0d2"
      },
      "source": [
        "* Scalar를 Vector로 미분"
      ]
    },
    {
      "cell_type": "code",
      "execution_count": 5,
      "id": "44f956c0",
      "metadata": {
        "id": "44f956c0"
      },
      "outputs": [],
      "source": [
        "w = tf.Variable(tf.random.normal((3, 2)), name='w')\n",
        "b = tf.Variable(tf.zeros(2, dtype=tf.float32), name='b')\n",
        "x = [[1., 2., 3.]]\n",
        "\n",
        "with tf.GradientTape(persistent=True) as tape:\n",
        "    y = x @ w + b\n",
        "    loss = tf.reduce_mean(y**2)\n"
      ]
    },
    {
      "cell_type": "code",
      "execution_count": 6,
      "id": "f7ba47e0",
      "metadata": {
        "colab": {
          "base_uri": "https://localhost:8080/"
        },
        "id": "f7ba47e0",
        "outputId": "34dc6975-529e-4559-931e-fdf32dcad662"
      },
      "outputs": [
        {
          "output_type": "execute_result",
          "data": {
            "text/plain": [
              "[<tf.Tensor: shape=(3, 2), dtype=float32, numpy=\n",
              " array([[ -9.104015 ,  -1.2844596],\n",
              "        [-18.20803  ,  -2.5689192],\n",
              "        [-27.312046 ,  -3.8533788]], dtype=float32)>,\n",
              " <tf.Tensor: shape=(2,), dtype=float32, numpy=array([-9.104015 , -1.2844596], dtype=float32)>]"
            ]
          },
          "metadata": {},
          "execution_count": 6
        }
      ],
      "source": [
        "[dl_dw, dl_db] = tape.gradient(loss, [w, b])\n",
        "\n",
        "[dl_dw, dl_db]"
      ]
    },
    {
      "cell_type": "code",
      "execution_count": 8,
      "id": "c3277e28",
      "metadata": {
        "colab": {
          "base_uri": "https://localhost:8080/"
        },
        "id": "c3277e28",
        "outputId": "ac7e9110-ac3d-4ec8-b4eb-71968badeba7"
      },
      "outputs": [
        {
          "output_type": "execute_result",
          "data": {
            "text/plain": [
              "(<tf.Tensor: shape=(3, 2), dtype=float32, numpy=\n",
              " array([[ -9.104015 ,  -1.2844596],\n",
              "        [-18.20803  ,  -2.5689192],\n",
              "        [-27.312046 ,  -3.8533788]], dtype=float32)>,\n",
              " <tf.Tensor: shape=(2,), dtype=float32, numpy=array([-9.104015 , -1.2844596], dtype=float32)>)"
            ]
          },
          "metadata": {},
          "execution_count": 8
        }
      ],
      "source": [
        "my_vars = {\n",
        "    'w': w,\n",
        "    'b': b\n",
        "}\n",
        "\n",
        "grad = tape.gradient(loss, my_vars)\n",
        "grad['w'],grad['b']"
      ]
    },
    {
      "cell_type": "code",
      "execution_count": null,
      "id": "5f6ab30d",
      "metadata": {
        "id": "5f6ab30d"
      },
      "outputs": [],
      "source": []
    },
    {
      "cell_type": "code",
      "execution_count": null,
      "id": "59cde98d",
      "metadata": {
        "id": "59cde98d"
      },
      "outputs": [],
      "source": []
    },
    {
      "cell_type": "markdown",
      "id": "6fae20d0",
      "metadata": {
        "id": "6fae20d0"
      },
      "source": [
        "- 자동미분 컨트롤 하기!\n",
        "\n",
        "  - `tf.Variable`만 기록 합니다!\n",
        "  - A variable + tensor  는 tensor를 반환\n",
        "  - `trainable` 조건으로 미분 기록을 제어\n",
        "  -"
      ]
    },
    {
      "cell_type": "code",
      "execution_count": null,
      "id": "c63776d1",
      "metadata": {
        "id": "c63776d1",
        "outputId": "32a235a4-cbc0-4f55-bdae-19ff6251d8d1"
      },
      "outputs": [
        {
          "name": "stdout",
          "output_type": "stream",
          "text": [
            "tf.Tensor(6.0, shape=(), dtype=float32)\n",
            "None\n",
            "None\n",
            "None\n"
          ]
        }
      ],
      "source": [
        "# A trainable variable\n",
        "x0 = tf.Variable(3.0, name='x0')\n",
        "\n",
        "# Not trainable\n",
        "x1 = tf.Variable(3.0, name='x1', trainable=False)\n",
        "\n",
        "# Not a Variable: A variable + tensor returns a tensor.\n",
        "x2 = tf.Variable(2.0, name='x2') + 1.0\n",
        "\n",
        "# Not a variable\n",
        "x3 = tf.constant(3.0, name='x3')\n",
        "\n",
        "with tf.GradientTape() as tape:\n",
        "    y = (x0**2) + (x1**2) + (x2**2)\n",
        "\n",
        "grad = tape.gradient(y, [x0, x1, x2, x3])\n",
        "\n",
        "for g in grad:\n",
        "    print(g)"
      ]
    },
    {
      "cell_type": "code",
      "execution_count": null,
      "id": "82a6c756",
      "metadata": {
        "id": "82a6c756"
      },
      "outputs": [],
      "source": []
    },
    {
      "cell_type": "markdown",
      "id": "a31603bb",
      "metadata": {
        "id": "a31603bb"
      },
      "source": [
        "#### 기록되고 있는 variable 확인하기"
      ]
    },
    {
      "cell_type": "code",
      "execution_count": null,
      "id": "80617825",
      "metadata": {
        "id": "80617825",
        "outputId": "a225bb63-585d-463c-8b2a-5beeac7348fd"
      },
      "outputs": [
        {
          "data": {
            "text/plain": [
              "(<tf.Variable 'w:0' shape=(3, 2) dtype=float32, numpy=\n",
              " array([[ 0.5882512 , -0.7001805 ],\n",
              "        [ 1.3807144 , -1.3100085 ],\n",
              "        [-0.32536483,  1.4990305 ]], dtype=float32)>,\n",
              " <tf.Variable 'b:0' shape=(2,) dtype=float32, numpy=array([0., 0.], dtype=float32)>)"
            ]
          },
          "execution_count": 18,
          "metadata": {},
          "output_type": "execute_result"
        }
      ],
      "source": [
        "tape.watched_variables()"
      ]
    },
    {
      "cell_type": "code",
      "execution_count": null,
      "id": "01563d6d",
      "metadata": {
        "id": "01563d6d"
      },
      "outputs": [],
      "source": []
    }
  ],
  "metadata": {
    "kernelspec": {
      "display_name": "Python 3",
      "name": "python3"
    },
    "language_info": {
      "codemirror_mode": {
        "name": "ipython",
        "version": 3
      },
      "file_extension": ".py",
      "mimetype": "text/x-python",
      "name": "python",
      "nbconvert_exporter": "python",
      "pygments_lexer": "ipython3",
      "version": "3.9.9"
    },
    "toc": {
      "base_numbering": 1,
      "nav_menu": {},
      "number_sections": true,
      "sideBar": true,
      "skip_h1_title": false,
      "title_cell": "Table of Contents",
      "title_sidebar": "Contents",
      "toc_cell": false,
      "toc_position": {
        "height": "calc(100% - 180px)",
        "left": "10px",
        "top": "150px",
        "width": "205.312px"
      },
      "toc_section_display": true,
      "toc_window_display": true
    },
    "varInspector": {
      "cols": {
        "lenName": 16,
        "lenType": 16,
        "lenVar": 40
      },
      "kernels_config": {
        "python": {
          "delete_cmd_postfix": "",
          "delete_cmd_prefix": "del ",
          "library": "var_list.py",
          "varRefreshCmd": "print(var_dic_list())"
        },
        "r": {
          "delete_cmd_postfix": ") ",
          "delete_cmd_prefix": "rm(",
          "library": "var_list.r",
          "varRefreshCmd": "cat(var_dic_list()) "
        }
      },
      "types_to_exclude": [
        "module",
        "function",
        "builtin_function_or_method",
        "instance",
        "_Feature"
      ],
      "window_display": false
    },
    "colab": {
      "provenance": [],
      "gpuType": "T4",
      "include_colab_link": true
    },
    "accelerator": "GPU"
  },
  "nbformat": 4,
  "nbformat_minor": 5
}