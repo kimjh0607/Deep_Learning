{
  "nbformat": 4,
  "nbformat_minor": 0,
  "metadata": {
    "colab": {
      "provenance": [],
      "machine_shape": "hm",
      "gpuType": "T4",
      "authorship_tag": "ABX9TyOrLqzMmXfXM5aX3nvHLpeW",
      "include_colab_link": true
    },
    "kernelspec": {
      "name": "python3",
      "display_name": "Python 3"
    },
    "language_info": {
      "name": "python"
    },
    "accelerator": "GPU"
  },
  "cells": [
    {
      "cell_type": "markdown",
      "metadata": {
        "id": "view-in-github",
        "colab_type": "text"
      },
      "source": [
        "<a href=\"https://colab.research.google.com/github/kimjh0607/Deep_Learning/blob/main/ResNet_LSTM_English.ipynb\" target=\"_parent\"><img src=\"https://colab.research.google.com/assets/colab-badge.svg\" alt=\"Open In Colab\"/></a>"
      ]
    },
    {
      "cell_type": "code",
      "source": [
        "# !nvidia-smi"
      ],
      "metadata": {
        "id": "n1qr8_CAYHZ-"
      },
      "execution_count": null,
      "outputs": []
    },
    {
      "cell_type": "code",
      "execution_count": null,
      "metadata": {
        "id": "PS8CBGp9lAZ-"
      },
      "outputs": [],
      "source": [
        "!pip install kaggle --quiet"
      ]
    },
    {
      "cell_type": "code",
      "source": [
        "!pip install torchtext==0.6.0"
      ],
      "metadata": {
        "colab": {
          "base_uri": "https://localhost:8080/"
        },
        "id": "eDlXzeeHq2kq",
        "outputId": "d1a4a1d6-3d07-4824-cf48-8868ed96e3d4"
      },
      "execution_count": null,
      "outputs": [
        {
          "output_type": "stream",
          "name": "stdout",
          "text": [
            "Collecting torchtext==0.6.0\n",
            "  Downloading torchtext-0.6.0-py3-none-any.whl (64 kB)\n",
            "\u001b[?25l     \u001b[90m━━━━━━━━━━━━━━━━━━━━━━━━━━━━━━━━━━━━━━━━\u001b[0m \u001b[32m0.0/64.2 kB\u001b[0m \u001b[31m?\u001b[0m eta \u001b[36m-:--:--\u001b[0m\r\u001b[2K     \u001b[90m━━━━━━━━━━━━━━━━━━━━━━━━━━━━━━━━━━━━━━━━\u001b[0m \u001b[32m64.2/64.2 kB\u001b[0m \u001b[31m1.6 MB/s\u001b[0m eta \u001b[36m0:00:00\u001b[0m\n",
            "\u001b[?25hRequirement already satisfied: tqdm in /usr/local/lib/python3.10/dist-packages (from torchtext==0.6.0) (4.66.1)\n",
            "Requirement already satisfied: requests in /usr/local/lib/python3.10/dist-packages (from torchtext==0.6.0) (2.31.0)\n",
            "Requirement already satisfied: torch in /usr/local/lib/python3.10/dist-packages (from torchtext==0.6.0) (2.1.0+cu121)\n",
            "Requirement already satisfied: numpy in /usr/local/lib/python3.10/dist-packages (from torchtext==0.6.0) (1.23.5)\n",
            "Requirement already satisfied: six in /usr/local/lib/python3.10/dist-packages (from torchtext==0.6.0) (1.16.0)\n",
            "Collecting sentencepiece (from torchtext==0.6.0)\n",
            "  Downloading sentencepiece-0.1.99-cp310-cp310-manylinux_2_17_x86_64.manylinux2014_x86_64.whl (1.3 MB)\n",
            "\u001b[2K     \u001b[90m━━━━━━━━━━━━━━━━━━━━━━━━━━━━━━━━━━━━━━━━\u001b[0m \u001b[32m1.3/1.3 MB\u001b[0m \u001b[31m36.9 MB/s\u001b[0m eta \u001b[36m0:00:00\u001b[0m\n",
            "\u001b[?25hRequirement already satisfied: charset-normalizer<4,>=2 in /usr/local/lib/python3.10/dist-packages (from requests->torchtext==0.6.0) (3.3.2)\n",
            "Requirement already satisfied: idna<4,>=2.5 in /usr/local/lib/python3.10/dist-packages (from requests->torchtext==0.6.0) (3.6)\n",
            "Requirement already satisfied: urllib3<3,>=1.21.1 in /usr/local/lib/python3.10/dist-packages (from requests->torchtext==0.6.0) (2.0.7)\n",
            "Requirement already satisfied: certifi>=2017.4.17 in /usr/local/lib/python3.10/dist-packages (from requests->torchtext==0.6.0) (2023.11.17)\n",
            "Requirement already satisfied: filelock in /usr/local/lib/python3.10/dist-packages (from torch->torchtext==0.6.0) (3.13.1)\n",
            "Requirement already satisfied: typing-extensions in /usr/local/lib/python3.10/dist-packages (from torch->torchtext==0.6.0) (4.5.0)\n",
            "Requirement already satisfied: sympy in /usr/local/lib/python3.10/dist-packages (from torch->torchtext==0.6.0) (1.12)\n",
            "Requirement already satisfied: networkx in /usr/local/lib/python3.10/dist-packages (from torch->torchtext==0.6.0) (3.2.1)\n",
            "Requirement already satisfied: jinja2 in /usr/local/lib/python3.10/dist-packages (from torch->torchtext==0.6.0) (3.1.2)\n",
            "Requirement already satisfied: fsspec in /usr/local/lib/python3.10/dist-packages (from torch->torchtext==0.6.0) (2023.6.0)\n",
            "Requirement already satisfied: triton==2.1.0 in /usr/local/lib/python3.10/dist-packages (from torch->torchtext==0.6.0) (2.1.0)\n",
            "Requirement already satisfied: MarkupSafe>=2.0 in /usr/local/lib/python3.10/dist-packages (from jinja2->torch->torchtext==0.6.0) (2.1.3)\n",
            "Requirement already satisfied: mpmath>=0.19 in /usr/local/lib/python3.10/dist-packages (from sympy->torch->torchtext==0.6.0) (1.3.0)\n",
            "Installing collected packages: sentencepiece, torchtext\n",
            "  Attempting uninstall: torchtext\n",
            "    Found existing installation: torchtext 0.16.0\n",
            "    Uninstalling torchtext-0.16.0:\n",
            "      Successfully uninstalled torchtext-0.16.0\n",
            "Successfully installed sentencepiece-0.1.99 torchtext-0.6.0\n"
          ]
        }
      ]
    },
    {
      "cell_type": "code",
      "source": [
        "from google.colab import drive\n",
        "drive.mount(\"/content/drive\")"
      ],
      "metadata": {
        "colab": {
          "base_uri": "https://localhost:8080/"
        },
        "id": "gxcybM8zlB82",
        "outputId": "6b9935f2-917e-4b66-e0b8-0c83a0e72974"
      },
      "execution_count": null,
      "outputs": [
        {
          "output_type": "stream",
          "name": "stdout",
          "text": [
            "Mounted at /content/drive\n"
          ]
        }
      ]
    },
    {
      "cell_type": "code",
      "source": [
        "path = '/content/drive/MyDrive/ColabNotebooks/credential/kaggle.json'"
      ],
      "metadata": {
        "id": "wbVKVAu3lB-q"
      },
      "execution_count": null,
      "outputs": []
    },
    {
      "cell_type": "code",
      "source": [
        "!mkdir ~/.kaggle\n",
        "!cp {path} ~/.kaggle/\n",
        "!chmod 600 ~/.kaggle/kaggle.json"
      ],
      "metadata": {
        "id": "OWH7YI_nlIJb"
      },
      "execution_count": null,
      "outputs": []
    },
    {
      "cell_type": "code",
      "source": [
        "!kaggle datasets download -d aladdinpersson/flickr8kimagescaptions\n",
        "# !kaggle datasets download -d eeshawn/flickr30k"
      ],
      "metadata": {
        "colab": {
          "base_uri": "https://localhost:8080/"
        },
        "id": "Pa7UprNolCAy",
        "outputId": "dd7d2b09-4978-4d67-a1b1-3b3e39f4f33f"
      },
      "execution_count": null,
      "outputs": [
        {
          "output_type": "stream",
          "name": "stdout",
          "text": [
            "Downloading flickr8kimagescaptions.zip to /content\n",
            "100% 1.04G/1.04G [01:00<00:00, 18.3MB/s]\n",
            "100% 1.04G/1.04G [01:00<00:00, 18.3MB/s]\n"
          ]
        }
      ]
    },
    {
      "cell_type": "code",
      "source": [
        "import zipfile\n",
        "zip_file = \"flickr8kimagescaptions.zip\"\n",
        "with zipfile.ZipFile(zip_file, 'r') as zip_ref:\n",
        "    zip_ref.extractall(\"dataset\")\n",
        "print(\"Unzipped the dataset.\")\n",
        "drive.flush_and_unmount()\n",
        "print(\"Google Drive unmounted.\")"
      ],
      "metadata": {
        "colab": {
          "base_uri": "https://localhost:8080/"
        },
        "id": "i9GIWN2elCE3",
        "outputId": "4a2f0b9f-0e31-462e-ba0d-9b5671d0805f"
      },
      "execution_count": null,
      "outputs": [
        {
          "output_type": "stream",
          "name": "stdout",
          "text": [
            "Unzipped the dataset.\n",
            "Google Drive unmounted.\n"
          ]
        }
      ]
    },
    {
      "cell_type": "code",
      "source": [
        "# import os\n",
        "\n",
        "# # Print the current working directory\n",
        "# print(\"Current working directory:\", os.getcwd())\n",
        "\n",
        "# # List files in the current working directory\n",
        "# print(\"Files in the current working directory:\")\n",
        "# os.listdir()"
      ],
      "metadata": {
        "id": "yyGbqu6-lMKw"
      },
      "execution_count": null,
      "outputs": []
    },
    {
      "cell_type": "markdown",
      "source": [
        "## image resize"
      ],
      "metadata": {
        "id": "pOeQNdsXsPQh"
      }
    },
    {
      "cell_type": "code",
      "source": [
        "import os\n",
        "from PIL import Image\n",
        "\n",
        "image_dir = './dataset/flickr8k/images'\n",
        "train_image_dir = './resized_train/images'\n",
        "val_image_dir = './resized_val/images'\n",
        "test_image_dir = './resized_test/images'\n",
        "size = [256, 256]\n",
        "\n",
        "def resize_image(image, size): # resize 함수\n",
        "  return image.resize(size, Image.ANTIALIAS)\n",
        "\n",
        "if not os.path.exists(train_image_dir):\n",
        "  os.makedirs(train_image_dir)\n",
        "if not os.path.exists(val_image_dir):\n",
        "  os.makedirs(val_image_dir)\n",
        "if not os.path.exists(test_image_dir):\n",
        "  os.makedirs(test_image_dir)"
      ],
      "metadata": {
        "id": "nT1zL5KFlMM_"
      },
      "execution_count": null,
      "outputs": []
    },
    {
      "cell_type": "code",
      "source": [
        "image_dir"
      ],
      "metadata": {
        "colab": {
          "base_uri": "https://localhost:8080/",
          "height": 36
        },
        "id": "VylCkAK3oYyc",
        "outputId": "01ce3b9e-126d-429d-eb43-5233c62af5d5"
      },
      "execution_count": null,
      "outputs": [
        {
          "output_type": "execute_result",
          "data": {
            "text/plain": [
              "'./dataset/flickr8k/images'"
            ],
            "application/vnd.google.colaboratory.intrinsic+json": {
              "type": "string"
            }
          },
          "metadata": {},
          "execution_count": 10
        }
      ]
    },
    {
      "cell_type": "code",
      "source": [
        "images = sorted(os.listdir(image_dir))\n",
        "num_images = len(images)\n",
        "num_train_images = 6000\n",
        "num_val_images = 1000"
      ],
      "metadata": {
        "id": "elalBs38lMPK"
      },
      "execution_count": null,
      "outputs": []
    },
    {
      "cell_type": "code",
      "source": [
        "for i, image in enumerate(images):\n",
        "  if (i+1) <= num_train_images:\n",
        "      output_dir = train_image_dir\n",
        "  elif (i+1) <= num_train_images + num_val_images:\n",
        "    output_dir = val_image_dir\n",
        "  else:\n",
        "    output_dir = test_image_dir\n",
        "\n",
        "  with open(os.path.join(image_dir, image), 'rb+') as f:\n",
        "    with Image.open(f) as img:\n",
        "      img = resize_image(img, size)\n",
        "      img.save(os.path.join(output_dir, image), img.format)\n",
        "  if (i+1) % 1000 == 0:\n",
        "    print(f'[{i+1}/{num_images}] Resize and save {output_dir}')"
      ],
      "metadata": {
        "colab": {
          "base_uri": "https://localhost:8080/"
        },
        "id": "Es_9qRqnlMRX",
        "outputId": "74ad1063-5a90-4ce5-e4fe-478d135f428e"
      },
      "execution_count": null,
      "outputs": [
        {
          "output_type": "stream",
          "name": "stderr",
          "text": [
            "<ipython-input-10-50f787b159d7>:11: DeprecationWarning: ANTIALIAS is deprecated and will be removed in Pillow 10 (2023-07-01). Use LANCZOS or Resampling.LANCZOS instead.\n",
            "  return image.resize(size, Image.ANTIALIAS)\n"
          ]
        },
        {
          "output_type": "stream",
          "name": "stdout",
          "text": [
            "[1000/31783] Resize and save ./resized_train/images\n",
            "[2000/31783] Resize and save ./resized_train/images\n",
            "[3000/31783] Resize and save ./resized_train/images\n",
            "[4000/31783] Resize and save ./resized_train/images\n",
            "[5000/31783] Resize and save ./resized_train/images\n",
            "[6000/31783] Resize and save ./resized_train/images\n",
            "[7000/31783] Resize and save ./resized_train/images\n",
            "[8000/31783] Resize and save ./resized_train/images\n",
            "[9000/31783] Resize and save ./resized_train/images\n",
            "[10000/31783] Resize and save ./resized_train/images\n",
            "[11000/31783] Resize and save ./resized_train/images\n",
            "[12000/31783] Resize and save ./resized_train/images\n",
            "[13000/31783] Resize and save ./resized_train/images\n",
            "[14000/31783] Resize and save ./resized_train/images\n",
            "[15000/31783] Resize and save ./resized_train/images\n",
            "[16000/31783] Resize and save ./resized_train/images\n",
            "[17000/31783] Resize and save ./resized_train/images\n",
            "[18000/31783] Resize and save ./resized_train/images\n",
            "[19000/31783] Resize and save ./resized_train/images\n",
            "[20000/31783] Resize and save ./resized_train/images\n",
            "[21000/31783] Resize and save ./resized_train/images\n",
            "[22000/31783] Resize and save ./resized_train/images\n",
            "[23000/31783] Resize and save ./resized_train/images\n",
            "[24000/31783] Resize and save ./resized_val/images\n",
            "[25000/31783] Resize and save ./resized_val/images\n",
            "[26000/31783] Resize and save ./resized_val/images\n",
            "[27000/31783] Resize and save ./resized_val/images\n",
            "[28000/31783] Resize and save ./resized_test/images\n",
            "[29000/31783] Resize and save ./resized_test/images\n",
            "[30000/31783] Resize and save ./resized_test/images\n",
            "[31000/31783] Resize and save ./resized_test/images\n"
          ]
        }
      ]
    },
    {
      "cell_type": "code",
      "source": [
        "import pickle\n",
        "import nltk\n",
        "from collections import Counter\n",
        "\n",
        "nltk.download('punkt')\n",
        "\n",
        "caption_path = './dataset/captions.txt'\n",
        "vocab_path = './vocab.pkl'\n",
        "word_threshold = 4\n",
        "train_caption_path = './resized_train/captions.txt'\n",
        "val_caption_path = './resized_val/captions.txt'\n",
        "test_caption_path = './resized_test/captions.txt'"
      ],
      "metadata": {
        "colab": {
          "base_uri": "https://localhost:8080/"
        },
        "id": "cehtxR50nDND",
        "outputId": "ac38b811-ebd2-4542-eaac-a0d43d4a5b09"
      },
      "execution_count": null,
      "outputs": [
        {
          "output_type": "stream",
          "name": "stderr",
          "text": [
            "[nltk_data] Downloading package punkt to /root/nltk_data...\n",
            "[nltk_data]   Unzipping tokenizers/punkt.zip.\n"
          ]
        }
      ]
    },
    {
      "cell_type": "code",
      "source": [
        "class Vocabulary(object):\n",
        "  def __init__(self):\n",
        "    self.word2idx = {}\n",
        "    self.idx2word = {}\n",
        "    self.idx = 0\n",
        "\n",
        "  def add_word(self, word):\n",
        "    if not word in self.word2idx:\n",
        "      self.word2idx[word] = self.idx\n",
        "      self.idx2word[self.idx] = word\n",
        "      self.idx += 1\n",
        "\n",
        "  def __call__(self, word):\n",
        "    if not word in self.word2idx:\n",
        "      return self.word2idx['<unk>']\n",
        "    return self.word2idx[word]\n",
        "\n",
        "  def __len__(self):\n",
        "    return len(self.word2idx)\n",
        "\n",
        "counter = Counter()\n",
        "\n",
        "with open(caption_path, 'r') as f:\n",
        "  lines = sorted(f.readlines()[1:])\n",
        "  for i in range(len(lines)):\n",
        "    line = lines[i]\n",
        "    if (i+1) <= num_train_images * 5:\n",
        "      output_caption = train_caption_path\n",
        "    elif (i+1) <= (num_train_images + num_val_images) * 5:\n",
        "      output_caption = val_caption_path\n",
        "    else:\n",
        "      output_caption = test_caption_path\n",
        "\n",
        "    index = line.find(\",\")\n",
        "    caption = line[index+1:]\n",
        "    tokens = nltk.tokenize.word_tokenize(caption.lower())\n",
        "    counter.update(tokens)\n",
        "    with open(output_caption, 'a') as output_caption_f:\n",
        "      output_caption_f.write(line)\n"
      ],
      "metadata": {
        "id": "bHLKQbjBCDIq"
      },
      "execution_count": null,
      "outputs": []
    },
    {
      "cell_type": "code",
      "source": [
        "words = []\n",
        "for word, cnt in counter.items():\n",
        "  if cnt >= word_threshold:\n",
        "    words.append(word)"
      ],
      "metadata": {
        "id": "OZY8LSN_CDGk"
      },
      "execution_count": null,
      "outputs": []
    },
    {
      "cell_type": "code",
      "source": [
        "vocab = Vocabulary()\n",
        "vocab.add_word('<pad>')\n",
        "vocab.add_word('<start>')\n",
        "vocab.add_word('<end>')\n",
        "vocab.add_word('<unk>')\n",
        "\n",
        "for word in words:\n",
        "  vocab.add_word(word)\n",
        "\n",
        "with open(vocab_path, 'wb') as f:\n",
        "  pickle.dump(vocab, f)"
      ],
      "metadata": {
        "id": "2hBCe0-OCDEl"
      },
      "execution_count": null,
      "outputs": []
    },
    {
      "cell_type": "code",
      "source": [
        "# 각 데이터 셋 캡션 수 확인 가능\n",
        "!wc -l ./resized_train/captions.txt\n",
        "\n",
        "!wc -l ./resized_val/captions.txt\n",
        "\n",
        "!wc -l ./resized_test/captions.txt"
      ],
      "metadata": {
        "colab": {
          "base_uri": "https://localhost:8080/"
        },
        "id": "mRluOIkYCDCC",
        "outputId": "72a0819b-d1c9-4676-f8a7-3b90fdc5a54c"
      },
      "execution_count": null,
      "outputs": [
        {
          "output_type": "stream",
          "name": "stdout",
          "text": [
            "117500 ./resized_train/captions.txt\n",
            "20000 ./resized_val/captions.txt\n",
            "21415 ./resized_test/captions.txt\n"
          ]
        }
      ]
    },
    {
      "cell_type": "markdown",
      "source": [
        "---\n",
        "# flickr8k, custom dataset class 정의"
      ],
      "metadata": {
        "id": "BAxjk2LYGBL3"
      }
    },
    {
      "cell_type": "code",
      "source": [
        "import torch.utils.data as data\n",
        "\n",
        "class Flickr8kDataset(data.Dataset):\n",
        "  def __init__(self, root, captions, vocab, transform=None):\n",
        "    self.root=root\n",
        "    with open(captions, 'r') as f:\n",
        "      lines = f.readlines()\n",
        "      self.captions = []\n",
        "      for line in lines:\n",
        "        index = line.find(',')\n",
        "        path = line[:index]\n",
        "        caption = line[index+1:]\n",
        "        self.captions.append((path, caption))\n",
        "    self.vocab=vocab\n",
        "    self.transform=transform\n",
        "\n",
        "  def __getitem__(self, index):\n",
        "    vocab = self.vocab\n",
        "    path = self.captions[index][0]\n",
        "    caption = self.captions[index][1]\n",
        "\n",
        "    image = Image.open(os.path.join(self.root, path)).convert('RGB')\n",
        "    if self.transform is not None:\n",
        "      image = self.transform(image)\n",
        "\n",
        "    tokens = nltk.tokenize.word_tokenize(caption.lower())\n",
        "    caption = []\n",
        "    caption.append(vocab('<start>'))\n",
        "    caption.extend([vocab(token) for token in tokens])\n",
        "    caption.append(vocab('<end>'))\n",
        "    target = torch.Tensor(caption)\n",
        "\n",
        "    return image, target\n",
        "\n",
        "  def __len__(self):\n",
        "    return len(self.captions)\n"
      ],
      "metadata": {
        "id": "kqDQE39YCC_k"
      },
      "execution_count": null,
      "outputs": []
    },
    {
      "cell_type": "code",
      "source": [
        "def collate_fn(data):\n",
        "  data.sort(key=lambda x: len(x[1]), reverse=True)\n",
        "  images, captions = zip(*data)\n",
        "\n",
        "  images = torch.stack(images, 0)\n",
        "\n",
        "  lengths = [len(caption) for caption in captions]\n",
        "  targets = torch.zeros(len(captions), max(lengths)).long()\n",
        "\n",
        "  for i, cap in enumerate(captions):\n",
        "    end = lengths[i]\n",
        "    targets[i, :end] = cap[:end]\n",
        "\n",
        "  return images, targets, lengths\n",
        "\n",
        "def collate_fn_test(data):\n",
        "  images, captions = zip(*data)\n",
        "  images = torch.stack(images, 0)\n",
        "  lengths = [len(caption) for caption in captions]\n",
        "  targets = torch.zeros(len(captions), max(lengths)).long()\n",
        "\n",
        "  for i, cap in enumerate(captions):\n",
        "    end = lengths[i]\n",
        "    targets[i, :end] = cap[:end]\n",
        "\n",
        "  return images, targets, lengths"
      ],
      "metadata": {
        "id": "cIMjSVFlvuFu"
      },
      "execution_count": null,
      "outputs": []
    },
    {
      "cell_type": "code",
      "source": [
        "def get_loader(root, captions, vocab, transform, batch_size, shuffle, num_workers, testing):\n",
        "  flickr8k = Flickr8kDataset(root=root, captions=captions, vocab=vocab, transform=transform)\n",
        "  if not testing:\n",
        "        data_loader = torch.utils.data.DataLoader(dataset=flickr8k, batch_size=batch_size, shuffle=shuffle, num_workers=num_workers, collate_fn=collate_fn)\n",
        "  else:\n",
        "        data_loader = torch.utils.data.DataLoader(dataset=flickr8k, batch_size=batch_size, shuffle=shuffle, num_workers=num_workers, collate_fn=collate_fn_test)\n",
        "  return data_loader"
      ],
      "metadata": {
        "id": "Mr-9D5WkvuIC"
      },
      "execution_count": null,
      "outputs": []
    },
    {
      "cell_type": "code",
      "source": [
        "import torch\n",
        "import torch.nn as nn\n",
        "import torchvision.models as models\n",
        "from torch.nn.utils.rnn import pack_padded_sequence\n",
        "\n",
        "class EncoderCNN(nn.Module):\n",
        "  def __init__(self, embed_size):\n",
        "    super(EncoderCNN, self).__init__()\n",
        "    resnet = models.resnet101(pretrained=True)\n",
        "    modules = list(resnet.children())[:-1]\n",
        "    self.resnet = nn.Sequential(*modules)\n",
        "    self.linear = nn.Linear(resnet.fc.in_features, embed_size)\n",
        "    self.bn = nn.BatchNorm1d(embed_size, momentum=0.01)\n",
        "\n",
        "  def forward(self, images):\n",
        "    with torch.no_grad():\n",
        "      features = self.resnet(images)\n",
        "    features = features.reshape(features.size(0), -1)\n",
        "    features = self.bn(self.linear(features))\n",
        "    return features\n",
        "\n",
        "class DecoderRNN(nn.Module):\n",
        "  def __init__(self, embed_size, hidden_size, vocab_size, num_layers, max_seq_length=20):\n",
        "    super(DecoderRNN, self).__init__()\n",
        "    self.embed = nn.Embedding(vocab_size, embed_size)\n",
        "    self.lstm = nn.LSTM(embed_size, hidden_size, num_layers, batch_first=True)\n",
        "    self.linear = nn.Linear(hidden_size, vocab_size)\n",
        "    self.max_seg_length = max_seq_length\n",
        "\n",
        "  def forward(self, features, captions, lengths):\n",
        "    embeddings = self.embed(captions)\n",
        "    embeddings = torch.cat((features.unsqueeze(1), embeddings), 1)\n",
        "    packed = pack_padded_sequence(embeddings, lengths, batch_first=True)\n",
        "    hiddens, _ = self.lstm(packed)\n",
        "    outputs = self.linear(hiddens[0])\n",
        "    return outputs\n",
        "\n",
        "  def sample(self, features, states=None):\n",
        "    sampled_indexes = []\n",
        "    inputs = features.unsqueeze(1)\n",
        "    for i in range(self.max_seg_length):\n",
        "      hiddens, states = self.lstm(inputs, states)\n",
        "      outputs = self.linear(hiddens.squeeze(1))\n",
        "      _, predicted = outputs.max(1)\n",
        "      sampled_indexes.append(predicted)\n",
        "      inputs = self.embed(predicted)\n",
        "      inputs = inputs.unsqueeze(1)\n",
        "    sampled_indexes = torch.stack(sampled_indexes, 1)\n",
        "\n",
        "    return sampled_indexes\n"
      ],
      "metadata": {
        "id": "XIovIyyivuKO"
      },
      "execution_count": null,
      "outputs": []
    },
    {
      "cell_type": "code",
      "source": [
        "import torch\n",
        "from torch.nn.utils.rnn import pack_padded_sequence\n",
        "from torchvision import transforms\n",
        "\n",
        "device = torch.device('cuda' if torch.cuda.is_available() else 'cpu')\n",
        "\n",
        "model_path = 'models/'\n",
        "crop_size = 224\n",
        "vocab_path = './vocab.pkl'\n",
        "\n",
        "if not os.path.exists(model_path):\n",
        "  os.makedirs(model_path)\n",
        "\n",
        "with open(vocab_path, 'rb') as f:\n",
        "  vocab = pickle.load(f)\n",
        "\n",
        "train_transform = transforms.Compose([\n",
        "    transforms.RandomCrop(crop_size),\n",
        "    transforms.RandomHorizontalFlip(),\n",
        "    transforms.ToTensor(),\n",
        "    transforms.Normalize((0.485, 0.456, 0.406), (0.229,0.224,0.225))\n",
        "])\n",
        "\n",
        "val_transform = transforms.Compose([\n",
        "    transforms.Resize(crop_size),\n",
        "    transforms.ToTensor(),\n",
        "    transforms.Normalize((0.485, 0.456, 0.406), (0.229,0.224,0.225))\n",
        "])\n",
        "\n",
        "test_transform = transforms.Compose([\n",
        "    transforms.Resize(crop_size),\n",
        "    transforms.ToTensor(),\n",
        "    transforms.Normalize((0.485, 0.456, 0.406), (0.229,0.224,0.225))\n",
        "])\n",
        "\n",
        "batch_size = 128\n",
        "num_workers = 2\n",
        "\n",
        "train_data_loader = get_loader(train_image_dir, train_caption_path, vocab, train_transform, batch_size, shuffle=True, num_workers=num_workers, testing=False)\n",
        "val_data_loader = get_loader(val_image_dir, val_caption_path, vocab, val_transform, batch_size, shuffle=False, num_workers=num_workers, testing=False)\n",
        "test_data_loader = get_loader(test_image_dir, test_caption_path, vocab, test_transform, batch_size, shuffle=False, num_workers=num_workers, testing=True)"
      ],
      "metadata": {
        "id": "vl3XB7MInDPR"
      },
      "execution_count": null,
      "outputs": []
    },
    {
      "cell_type": "code",
      "source": [
        "embed_size = 256\n",
        "hidden_size = 512\n",
        "num_layers = 1\n",
        "\n",
        "encoder = EncoderCNN(embed_size).to(device)\n",
        "decoder = DecoderRNN(embed_size, hidden_size, len(vocab), num_layers).to(device)\n",
        "\n",
        "num_epochs = 5\n",
        "learning_rate = 0.001\n",
        "\n",
        "log_step = 20\n",
        "save_step = 1000\n",
        "\n",
        "criterion = nn.CrossEntropyLoss()\n",
        "params = list(decoder.parameters()) + list(encoder.linear.parameters()) + list(encoder.bn.parameters())\n",
        "optimizer = torch.optim.Adam(params, lr=learning_rate)"
      ],
      "metadata": {
        "colab": {
          "base_uri": "https://localhost:8080/"
        },
        "id": "9m1Va2JUWK2c",
        "outputId": "12e883a4-2a76-4806-c81b-763572f2efde"
      },
      "execution_count": null,
      "outputs": [
        {
          "output_type": "stream",
          "name": "stderr",
          "text": [
            "/usr/local/lib/python3.10/dist-packages/torchvision/models/_utils.py:208: UserWarning: The parameter 'pretrained' is deprecated since 0.13 and may be removed in the future, please use 'weights' instead.\n",
            "  warnings.warn(\n",
            "/usr/local/lib/python3.10/dist-packages/torchvision/models/_utils.py:223: UserWarning: Arguments other than a weight enum or `None` for 'weights' are deprecated since 0.13 and may be removed in the future. The current behavior is equivalent to passing `weights=ResNet101_Weights.IMAGENET1K_V1`. You can also use `weights=ResNet101_Weights.DEFAULT` to get the most up-to-date weights.\n",
            "  warnings.warn(msg)\n",
            "Downloading: \"https://download.pytorch.org/models/resnet101-63fe2227.pth\" to /root/.cache/torch/hub/checkpoints/resnet101-63fe2227.pth\n",
            "100%|██████████| 171M/171M [00:01<00:00, 169MB/s]\n"
          ]
        }
      ]
    },
    {
      "cell_type": "code",
      "source": [
        "import time\n",
        "import numpy as np\n",
        "\n",
        "start_time = time.time()\n",
        "\n",
        "for epoch in range(num_epochs):\n",
        "  print('[>>Training<<]')\n",
        "  total_loss = 0\n",
        "  total_count = 0\n",
        "  total_step = len(train_data_loader)\n",
        "\n",
        "  for i, (images, captions, lengths) in enumerate(train_data_loader):\n",
        "    images = images.to(device)\n",
        "    captions = captions.to(device)\n",
        "    targets = pack_padded_sequence(captions, lengths, batch_first=True)[0]\n",
        "\n",
        "    features = encoder(images)\n",
        "    outputs = decoder(features, captions, lengths)\n",
        "    loss = criterion(outputs, targets)\n",
        "\n",
        "    decoder.zero_grad()\n",
        "    encoder.zero_grad()\n",
        "\n",
        "    loss.backward()\n",
        "    optimizer.step()\n",
        "\n",
        "    total_loss = total_loss + loss.item()\n",
        "    total_count = images.shape[0]\n",
        "\n",
        "    if i % log_step == 0:\n",
        "      print(f'Epoch [{epoch+1}/{num_epochs}], Step[{i}/{total_step}], Avg Loss:{(total_loss / total_count):.4f}, Perplexity:{np.exp(loss.item()):5.4f}, Elapsed time:{time.time() - start_time:.4f}s')\n",
        "\n",
        "  torch.save(decoder.state_dict(), os.path.join(model_path, f'decoder-{epoch+1}.ckpt'))\n",
        "  torch.save(encoder.state_dict(), os.path.join(model_path, f'encoder-{epoch+1}.ckpt'))\n",
        "  print(f'Model saved : {os.path.join(model_path, f\"decoder-{epoch+1}.ckpt\")}')\n",
        "  print(f'Model saved : {os.path.join(model_path, f\"encoder-{epoch+1}.ckpt\")}')\n",
        "\n",
        "  print('[>>Validation<<]')\n",
        "  total_loss = 0\n",
        "  total_count = 0\n",
        "  total_step = len(val_data_loader)\n",
        "\n",
        "  with torch.no_grad():\n",
        "    for i, (images, captions, lengths) in enumerate(val_data_loader):\n",
        "      images = images.to(device)\n",
        "      captions = captions.to(device)\n",
        "      targets = pack_padded_sequence(captions, lengths, batch_first=True)[0]\n",
        "\n",
        "      features = encoder(images)\n",
        "      outputs = decoder(features, captions, lengths)\n",
        "      loss = criterion(outputs, targets)\n",
        "\n",
        "      total_loss = total_loss + loss.item()\n",
        "      total_count = total_count + images.shape[0]\n",
        "\n",
        "      if i % log_step == 0:\n",
        "        print(f'Epoch [{epoch+1}/{num_epochs}], Step [{i}/{total_step}], Average Loss: {(total_loss / total_count):.4f}, Perplexity: {np.exp(loss.item()):5.4f}, Elapsed time: {time.time() - start_time:.4f}s')\n",
        "\n"
      ],
      "metadata": {
        "colab": {
          "base_uri": "https://localhost:8080/"
        },
        "id": "N9Yq1U2uWK4q",
        "outputId": "a560c257-5ab8-4f2c-a15c-232a07843530"
      },
      "execution_count": null,
      "outputs": [
        {
          "output_type": "stream",
          "name": "stdout",
          "text": [
            "[>>Training<<]\n",
            "Epoch [1/5], Step[0/918], Avg Loss:0.0709, Perplexity:8726.8238, Elapsed time:5.4269s\n",
            "Epoch [1/5], Step[20/918], Avg Loss:1.0635, Perplexity:136.1845, Elapsed time:10.1152s\n",
            "Epoch [1/5], Step[40/918], Avg Loss:1.7676, Perplexity:67.6565, Elapsed time:14.8587s\n",
            "Epoch [1/5], Step[60/918], Avg Loss:2.4059, Perplexity:50.2348, Elapsed time:19.5353s\n",
            "Epoch [1/5], Step[80/918], Avg Loss:2.9986, Perplexity:40.1439, Elapsed time:24.2383s\n",
            "Epoch [1/5], Step[100/918], Avg Loss:3.5665, Perplexity:37.4461, Elapsed time:28.9626s\n",
            "Epoch [1/5], Step[120/918], Avg Loss:4.1114, Perplexity:32.1383, Elapsed time:33.6454s\n",
            "Epoch [1/5], Step[140/918], Avg Loss:4.6402, Perplexity:30.1767, Elapsed time:38.3486s\n",
            "Epoch [1/5], Step[160/918], Avg Loss:5.1636, Perplexity:29.3052, Elapsed time:43.0827s\n",
            "Epoch [1/5], Step[180/918], Avg Loss:5.6809, Perplexity:24.4802, Elapsed time:47.7741s\n",
            "Epoch [1/5], Step[200/918], Avg Loss:6.1912, Perplexity:23.9353, Elapsed time:52.4901s\n",
            "Epoch [1/5], Step[220/918], Avg Loss:6.6918, Perplexity:24.2334, Elapsed time:57.1854s\n",
            "Epoch [1/5], Step[240/918], Avg Loss:7.1903, Perplexity:24.4724, Elapsed time:61.8780s\n",
            "Epoch [1/5], Step[260/918], Avg Loss:7.6844, Perplexity:21.4113, Elapsed time:66.6037s\n",
            "Epoch [1/5], Step[280/918], Avg Loss:8.1718, Perplexity:21.2557, Elapsed time:71.2948s\n",
            "Epoch [1/5], Step[300/918], Avg Loss:8.6535, Perplexity:26.6646, Elapsed time:75.9847s\n",
            "Epoch [1/5], Step[320/918], Avg Loss:9.1357, Perplexity:19.5951, Elapsed time:80.6927s\n",
            "Epoch [1/5], Step[340/918], Avg Loss:9.6076, Perplexity:18.2310, Elapsed time:85.3703s\n",
            "Epoch [1/5], Step[360/918], Avg Loss:10.0811, Perplexity:19.4924, Elapsed time:90.0835s\n",
            "Epoch [1/5], Step[380/918], Avg Loss:10.5528, Perplexity:19.8465, Elapsed time:94.8497s\n",
            "Epoch [1/5], Step[400/918], Avg Loss:11.0170, Perplexity:18.3871, Elapsed time:99.5570s\n",
            "Epoch [1/5], Step[420/918], Avg Loss:11.4799, Perplexity:18.9824, Elapsed time:104.2679s\n",
            "Epoch [1/5], Step[440/918], Avg Loss:11.9398, Perplexity:16.8779, Elapsed time:108.9831s\n",
            "Epoch [1/5], Step[460/918], Avg Loss:12.3971, Perplexity:21.6253, Elapsed time:113.6763s\n",
            "Epoch [1/5], Step[480/918], Avg Loss:12.8512, Perplexity:15.7638, Elapsed time:118.3936s\n",
            "Epoch [1/5], Step[500/918], Avg Loss:13.3059, Perplexity:17.7646, Elapsed time:123.0750s\n",
            "Epoch [1/5], Step[520/918], Avg Loss:13.7570, Perplexity:17.1678, Elapsed time:127.7677s\n",
            "Epoch [1/5], Step[540/918], Avg Loss:14.2079, Perplexity:15.2475, Elapsed time:132.4766s\n",
            "Epoch [1/5], Step[560/918], Avg Loss:14.6525, Perplexity:16.5429, Elapsed time:137.1649s\n",
            "Epoch [1/5], Step[580/918], Avg Loss:15.0984, Perplexity:15.3586, Elapsed time:141.8589s\n",
            "Epoch [1/5], Step[600/918], Avg Loss:15.5395, Perplexity:17.2380, Elapsed time:146.5494s\n",
            "Epoch [1/5], Step[620/918], Avg Loss:15.9796, Perplexity:21.0969, Elapsed time:151.2451s\n",
            "Epoch [1/5], Step[640/918], Avg Loss:16.4151, Perplexity:14.5214, Elapsed time:155.9666s\n",
            "Epoch [1/5], Step[660/918], Avg Loss:16.8531, Perplexity:15.6937, Elapsed time:160.6746s\n",
            "Epoch [1/5], Step[680/918], Avg Loss:17.2899, Perplexity:14.2103, Elapsed time:165.3628s\n",
            "Epoch [1/5], Step[700/918], Avg Loss:17.7197, Perplexity:13.5538, Elapsed time:170.1384s\n",
            "Epoch [1/5], Step[720/918], Avg Loss:18.1548, Perplexity:17.1364, Elapsed time:174.8371s\n",
            "Epoch [1/5], Step[740/918], Avg Loss:18.5914, Perplexity:14.2977, Elapsed time:179.5523s\n",
            "Epoch [1/5], Step[760/918], Avg Loss:19.0264, Perplexity:15.0937, Elapsed time:184.2987s\n",
            "Epoch [1/5], Step[780/918], Avg Loss:19.4550, Perplexity:15.9832, Elapsed time:188.9821s\n",
            "Epoch [1/5], Step[800/918], Avg Loss:19.8835, Perplexity:15.3200, Elapsed time:193.6810s\n",
            "Epoch [1/5], Step[820/918], Avg Loss:20.3078, Perplexity:12.4606, Elapsed time:198.4256s\n",
            "Epoch [1/5], Step[840/918], Avg Loss:20.7337, Perplexity:14.9875, Elapsed time:203.1324s\n",
            "Epoch [1/5], Step[860/918], Avg Loss:21.1555, Perplexity:15.1620, Elapsed time:207.8600s\n",
            "Epoch [1/5], Step[880/918], Avg Loss:21.5755, Perplexity:13.7542, Elapsed time:212.5887s\n",
            "Epoch [1/5], Step[900/918], Avg Loss:21.9944, Perplexity:15.6265, Elapsed time:217.3120s\n",
            "Model saved : models/decoder-1.ckpt\n",
            "Model saved : models/encoder-1.ckpt\n",
            "[>>Validation<<]\n",
            "Epoch [1/5], Step [0/157], Average Loss: 0.0225, Perplexity: 17.9147, Elapsed time: 222.5355s\n",
            "Epoch [1/5], Step [20/157], Average Loss: 0.0214, Perplexity: 16.6354, Elapsed time: 226.9838s\n",
            "Epoch [1/5], Step [40/157], Average Loss: 0.0215, Perplexity: 17.4439, Elapsed time: 231.4525s\n",
            "Epoch [1/5], Step [60/157], Average Loss: 0.0215, Perplexity: 16.0754, Elapsed time: 235.9637s\n",
            "Epoch [1/5], Step [80/157], Average Loss: 0.0215, Perplexity: 15.5307, Elapsed time: 240.4198s\n",
            "Epoch [1/5], Step [100/157], Average Loss: 0.0215, Perplexity: 17.7897, Elapsed time: 244.8543s\n",
            "Epoch [1/5], Step [120/157], Average Loss: 0.0217, Perplexity: 18.6168, Elapsed time: 249.3253s\n",
            "Epoch [1/5], Step [140/157], Average Loss: 0.0218, Perplexity: 21.6142, Elapsed time: 253.7634s\n",
            "[>>Training<<]\n",
            "Epoch [2/5], Step[0/918], Avg Loss:0.0211, Perplexity:14.8032, Elapsed time:257.9801s\n",
            "Epoch [2/5], Step[20/918], Avg Loss:0.4299, Perplexity:14.2511, Elapsed time:262.6694s\n",
            "Epoch [2/5], Step[40/918], Avg Loss:0.8431, Perplexity:15.1740, Elapsed time:267.3426s\n",
            "Epoch [2/5], Step[60/918], Avg Loss:1.2530, Perplexity:13.5384, Elapsed time:272.0380s\n",
            "Epoch [2/5], Step[80/918], Avg Loss:1.6613, Perplexity:13.5029, Elapsed time:276.7285s\n",
            "Epoch [2/5], Step[100/918], Avg Loss:2.0652, Perplexity:14.4900, Elapsed time:281.3987s\n",
            "Epoch [2/5], Step[120/918], Avg Loss:2.4671, Perplexity:13.4349, Elapsed time:286.0851s\n",
            "Epoch [2/5], Step[140/918], Avg Loss:2.8708, Perplexity:14.7356, Elapsed time:290.7582s\n",
            "Epoch [2/5], Step[160/918], Avg Loss:3.2709, Perplexity:12.1008, Elapsed time:295.4250s\n",
            "Epoch [2/5], Step[180/918], Avg Loss:3.6753, Perplexity:14.5429, Elapsed time:300.1091s\n",
            "Epoch [2/5], Step[200/918], Avg Loss:4.0756, Perplexity:11.6431, Elapsed time:304.7842s\n",
            "Epoch [2/5], Step[220/918], Avg Loss:4.4750, Perplexity:12.0227, Elapsed time:309.4429s\n",
            "Epoch [2/5], Step[240/918], Avg Loss:4.8788, Perplexity:14.8746, Elapsed time:314.1108s\n",
            "Epoch [2/5], Step[260/918], Avg Loss:5.2823, Perplexity:12.9716, Elapsed time:318.7806s\n",
            "Epoch [2/5], Step[280/918], Avg Loss:5.6819, Perplexity:12.6680, Elapsed time:323.4796s\n",
            "Epoch [2/5], Step[300/918], Avg Loss:6.0835, Perplexity:14.5047, Elapsed time:328.1495s\n",
            "Epoch [2/5], Step[320/918], Avg Loss:6.4783, Perplexity:12.2222, Elapsed time:332.8267s\n",
            "Epoch [2/5], Step[340/918], Avg Loss:6.8766, Perplexity:12.4597, Elapsed time:337.5343s\n",
            "Epoch [2/5], Step[360/918], Avg Loss:7.2746, Perplexity:13.1446, Elapsed time:342.2084s\n",
            "Epoch [2/5], Step[380/918], Avg Loss:7.6699, Perplexity:10.8739, Elapsed time:346.8769s\n",
            "Epoch [2/5], Step[400/918], Avg Loss:8.0645, Perplexity:12.1352, Elapsed time:351.5543s\n",
            "Epoch [2/5], Step[420/918], Avg Loss:8.4640, Perplexity:12.0535, Elapsed time:356.2334s\n",
            "Epoch [2/5], Step[440/918], Avg Loss:8.8540, Perplexity:12.8451, Elapsed time:360.9667s\n",
            "Epoch [2/5], Step[460/918], Avg Loss:9.2503, Perplexity:14.3447, Elapsed time:365.6441s\n",
            "Epoch [2/5], Step[480/918], Avg Loss:9.6427, Perplexity:11.9357, Elapsed time:370.3261s\n",
            "Epoch [2/5], Step[500/918], Avg Loss:10.0341, Perplexity:13.0752, Elapsed time:375.0133s\n",
            "Epoch [2/5], Step[520/918], Avg Loss:10.4278, Perplexity:14.4445, Elapsed time:379.6738s\n",
            "Epoch [2/5], Step[540/918], Avg Loss:10.8164, Perplexity:10.7425, Elapsed time:384.3477s\n",
            "Epoch [2/5], Step[560/918], Avg Loss:11.2093, Perplexity:12.1127, Elapsed time:389.0659s\n",
            "Epoch [2/5], Step[580/918], Avg Loss:11.5961, Perplexity:11.3197, Elapsed time:393.7405s\n",
            "Epoch [2/5], Step[600/918], Avg Loss:11.9868, Perplexity:13.9759, Elapsed time:398.4188s\n",
            "Epoch [2/5], Step[620/918], Avg Loss:12.3721, Perplexity:12.9225, Elapsed time:403.1109s\n",
            "Epoch [2/5], Step[640/918], Avg Loss:12.7610, Perplexity:11.7805, Elapsed time:407.7827s\n",
            "Epoch [2/5], Step[660/918], Avg Loss:13.1501, Perplexity:12.3298, Elapsed time:412.4759s\n",
            "Epoch [2/5], Step[680/918], Avg Loss:13.5389, Perplexity:11.4363, Elapsed time:417.1540s\n",
            "Epoch [2/5], Step[700/918], Avg Loss:13.9250, Perplexity:11.0111, Elapsed time:421.8283s\n",
            "Epoch [2/5], Step[720/918], Avg Loss:14.3131, Perplexity:11.7391, Elapsed time:426.5256s\n",
            "Epoch [2/5], Step[740/918], Avg Loss:14.7007, Perplexity:12.1670, Elapsed time:431.2008s\n",
            "Epoch [2/5], Step[760/918], Avg Loss:15.0885, Perplexity:11.8610, Elapsed time:435.8828s\n",
            "Epoch [2/5], Step[780/918], Avg Loss:15.4781, Perplexity:12.2127, Elapsed time:440.6365s\n",
            "Epoch [2/5], Step[800/918], Avg Loss:15.8616, Perplexity:10.7501, Elapsed time:445.3008s\n",
            "Epoch [2/5], Step[820/918], Avg Loss:16.2485, Perplexity:12.3294, Elapsed time:450.0075s\n",
            "Epoch [2/5], Step[840/918], Avg Loss:16.6326, Perplexity:12.8182, Elapsed time:454.7166s\n",
            "Epoch [2/5], Step[860/918], Avg Loss:17.0150, Perplexity:12.3353, Elapsed time:459.3897s\n",
            "Epoch [2/5], Step[880/918], Avg Loss:17.4011, Perplexity:11.9479, Elapsed time:464.0866s\n",
            "Epoch [2/5], Step[900/918], Avg Loss:17.7854, Perplexity:11.9117, Elapsed time:468.8014s\n",
            "Model saved : models/decoder-2.ckpt\n",
            "Model saved : models/encoder-2.ckpt\n",
            "[>>Validation<<]\n",
            "Epoch [2/5], Step [0/157], Average Loss: 0.0213, Perplexity: 15.3312, Elapsed time: 473.9468s\n",
            "Epoch [2/5], Step [20/157], Average Loss: 0.0201, Perplexity: 14.0100, Elapsed time: 478.4541s\n",
            "Epoch [2/5], Step [40/157], Average Loss: 0.0202, Perplexity: 14.8713, Elapsed time: 482.9616s\n",
            "Epoch [2/5], Step [60/157], Average Loss: 0.0203, Perplexity: 13.9972, Elapsed time: 487.4168s\n",
            "Epoch [2/5], Step [80/157], Average Loss: 0.0202, Perplexity: 13.4590, Elapsed time: 491.9105s\n",
            "Epoch [2/5], Step [100/157], Average Loss: 0.0203, Perplexity: 15.0102, Elapsed time: 496.3740s\n",
            "Epoch [2/5], Step [120/157], Average Loss: 0.0204, Perplexity: 15.7463, Elapsed time: 500.8142s\n",
            "Epoch [2/5], Step [140/157], Average Loss: 0.0205, Perplexity: 17.5150, Elapsed time: 505.2825s\n",
            "[>>Training<<]\n",
            "Epoch [3/5], Step[0/918], Avg Loss:0.0187, Perplexity:10.9152, Elapsed time:509.4643s\n",
            "Epoch [3/5], Step[20/918], Avg Loss:0.3853, Perplexity:10.6830, Elapsed time:514.1517s\n",
            "Epoch [3/5], Step[40/918], Avg Loss:0.7531, Perplexity:10.0143, Elapsed time:518.8654s\n",
            "Epoch [3/5], Step[60/918], Avg Loss:1.1172, Perplexity:9.8638, Elapsed time:523.5345s\n",
            "Epoch [3/5], Step[80/918], Avg Loss:1.4833, Perplexity:9.4227, Elapsed time:528.2015s\n",
            "Epoch [3/5], Step[100/918], Avg Loss:1.8500, Perplexity:11.4333, Elapsed time:532.8570s\n",
            "Epoch [3/5], Step[120/918], Avg Loss:2.2162, Perplexity:10.3302, Elapsed time:537.5497s\n",
            "Epoch [3/5], Step[140/918], Avg Loss:2.5864, Perplexity:11.3187, Elapsed time:542.2661s\n",
            "Epoch [3/5], Step[160/918], Avg Loss:2.9516, Perplexity:10.9674, Elapsed time:546.9289s\n",
            "Epoch [3/5], Step[180/918], Avg Loss:3.3177, Perplexity:11.0459, Elapsed time:551.6065s\n",
            "Epoch [3/5], Step[200/918], Avg Loss:3.6837, Perplexity:9.7623, Elapsed time:556.3250s\n",
            "Epoch [3/5], Step[220/918], Avg Loss:4.0495, Perplexity:10.3509, Elapsed time:560.9891s\n",
            "Epoch [3/5], Step[240/918], Avg Loss:4.4171, Perplexity:9.9096, Elapsed time:565.6590s\n",
            "Epoch [3/5], Step[260/918], Avg Loss:4.7830, Perplexity:9.0671, Elapsed time:570.3431s\n",
            "Epoch [3/5], Step[280/918], Avg Loss:5.1472, Perplexity:10.3973, Elapsed time:575.0110s\n",
            "Epoch [3/5], Step[300/918], Avg Loss:5.5168, Perplexity:11.9637, Elapsed time:579.6849s\n",
            "Epoch [3/5], Step[320/918], Avg Loss:5.8827, Perplexity:10.0046, Elapsed time:584.3564s\n",
            "Epoch [3/5], Step[340/918], Avg Loss:6.2503, Perplexity:9.9854, Elapsed time:589.0368s\n",
            "Epoch [3/5], Step[360/918], Avg Loss:6.6187, Perplexity:11.1835, Elapsed time:593.7029s\n",
            "Epoch [3/5], Step[380/918], Avg Loss:6.9833, Perplexity:10.1525, Elapsed time:598.3894s\n",
            "Epoch [3/5], Step[400/918], Avg Loss:7.3445, Perplexity:9.8516, Elapsed time:603.0510s\n",
            "Epoch [3/5], Step[420/918], Avg Loss:7.7086, Perplexity:11.0913, Elapsed time:607.7446s\n",
            "Epoch [3/5], Step[440/918], Avg Loss:8.0738, Perplexity:10.7235, Elapsed time:612.4067s\n",
            "Epoch [3/5], Step[460/918], Avg Loss:8.4394, Perplexity:10.5027, Elapsed time:617.0732s\n",
            "Epoch [3/5], Step[480/918], Avg Loss:8.8036, Perplexity:10.2070, Elapsed time:621.7507s\n",
            "Epoch [3/5], Step[500/918], Avg Loss:9.1698, Perplexity:10.3790, Elapsed time:626.4698s\n",
            "Epoch [3/5], Step[520/918], Avg Loss:9.5339, Perplexity:10.3401, Elapsed time:631.2273s\n",
            "Epoch [3/5], Step[540/918], Avg Loss:9.8970, Perplexity:9.5899, Elapsed time:635.9000s\n",
            "Epoch [3/5], Step[560/918], Avg Loss:10.2572, Perplexity:10.2294, Elapsed time:640.5739s\n",
            "Epoch [3/5], Step[580/918], Avg Loss:10.6217, Perplexity:10.0557, Elapsed time:645.2636s\n",
            "Epoch [3/5], Step[600/918], Avg Loss:10.9878, Perplexity:10.3664, Elapsed time:649.9243s\n",
            "Epoch [3/5], Step[620/918], Avg Loss:11.3525, Perplexity:10.9412, Elapsed time:654.5867s\n",
            "Epoch [3/5], Step[640/918], Avg Loss:11.7113, Perplexity:10.1743, Elapsed time:659.3330s\n",
            "Epoch [3/5], Step[660/918], Avg Loss:12.0749, Perplexity:10.2245, Elapsed time:663.9956s\n",
            "Epoch [3/5], Step[680/918], Avg Loss:12.4325, Perplexity:9.1210, Elapsed time:668.6862s\n",
            "Epoch [3/5], Step[700/918], Avg Loss:12.7943, Perplexity:10.6750, Elapsed time:673.3532s\n",
            "Epoch [3/5], Step[720/918], Avg Loss:13.1572, Perplexity:9.1701, Elapsed time:678.0217s\n",
            "Epoch [3/5], Step[740/918], Avg Loss:13.5200, Perplexity:9.8270, Elapsed time:682.8100s\n",
            "Epoch [3/5], Step[760/918], Avg Loss:13.8815, Perplexity:10.1357, Elapsed time:687.5187s\n",
            "Epoch [3/5], Step[780/918], Avg Loss:14.2458, Perplexity:9.6574, Elapsed time:692.2128s\n",
            "Epoch [3/5], Step[800/918], Avg Loss:14.6051, Perplexity:9.6266, Elapsed time:696.9850s\n",
            "Epoch [3/5], Step[820/918], Avg Loss:14.9670, Perplexity:11.2185, Elapsed time:701.6521s\n",
            "Epoch [3/5], Step[840/918], Avg Loss:15.3252, Perplexity:10.3301, Elapsed time:706.3304s\n",
            "Epoch [3/5], Step[860/918], Avg Loss:15.6828, Perplexity:9.7777, Elapsed time:711.0077s\n",
            "Epoch [3/5], Step[880/918], Avg Loss:16.0377, Perplexity:10.4559, Elapsed time:715.6828s\n",
            "Epoch [3/5], Step[900/918], Avg Loss:16.3942, Perplexity:9.4392, Elapsed time:720.3888s\n",
            "Model saved : models/decoder-3.ckpt\n",
            "Model saved : models/encoder-3.ckpt\n",
            "[>>Validation<<]\n",
            "Epoch [3/5], Step [0/157], Average Loss: 0.0209, Perplexity: 14.4604, Elapsed time: 725.5560s\n",
            "Epoch [3/5], Step [20/157], Average Loss: 0.0196, Perplexity: 12.8879, Elapsed time: 730.0289s\n",
            "Epoch [3/5], Step [40/157], Average Loss: 0.0197, Perplexity: 13.8826, Elapsed time: 734.4909s\n",
            "Epoch [3/5], Step [60/157], Average Loss: 0.0198, Perplexity: 12.9650, Elapsed time: 738.9595s\n",
            "Epoch [3/5], Step [80/157], Average Loss: 0.0197, Perplexity: 12.7575, Elapsed time: 743.4209s\n",
            "Epoch [3/5], Step [100/157], Average Loss: 0.0198, Perplexity: 13.6335, Elapsed time: 747.8723s\n",
            "Epoch [3/5], Step [120/157], Average Loss: 0.0199, Perplexity: 14.3807, Elapsed time: 752.3241s\n",
            "Epoch [3/5], Step [140/157], Average Loss: 0.0199, Perplexity: 15.7113, Elapsed time: 756.7381s\n",
            "[>>Training<<]\n",
            "Epoch [4/5], Step[0/918], Avg Loss:0.0163, Perplexity:8.1031, Elapsed time:760.9270s\n",
            "Epoch [4/5], Step[20/918], Avg Loss:0.3605, Perplexity:10.2731, Elapsed time:765.6054s\n",
            "Epoch [4/5], Step[40/918], Avg Loss:0.6984, Perplexity:9.4332, Elapsed time:770.2645s\n",
            "Epoch [4/5], Step[60/918], Avg Loss:1.0404, Perplexity:8.5776, Elapsed time:774.9511s\n",
            "Epoch [4/5], Step[80/918], Avg Loss:1.3805, Perplexity:9.6317, Elapsed time:779.6186s\n",
            "Epoch [4/5], Step[100/918], Avg Loss:1.7249, Perplexity:9.0545, Elapsed time:784.2762s\n",
            "Epoch [4/5], Step[120/918], Avg Loss:2.0669, Perplexity:8.4015, Elapsed time:788.9395s\n",
            "Epoch [4/5], Step[140/918], Avg Loss:2.4087, Perplexity:8.8436, Elapsed time:793.5951s\n",
            "Epoch [4/5], Step[160/918], Avg Loss:2.7533, Perplexity:8.5664, Elapsed time:798.3417s\n",
            "Epoch [4/5], Step[180/918], Avg Loss:3.0958, Perplexity:10.2292, Elapsed time:803.0002s\n",
            "Epoch [4/5], Step[200/918], Avg Loss:3.4397, Perplexity:8.9230, Elapsed time:807.6633s\n",
            "Epoch [4/5], Step[220/918], Avg Loss:3.7838, Perplexity:8.4978, Elapsed time:812.3315s\n",
            "Epoch [4/5], Step[240/918], Avg Loss:4.1249, Perplexity:8.7347, Elapsed time:817.0093s\n",
            "Epoch [4/5], Step[260/918], Avg Loss:4.4678, Perplexity:8.6442, Elapsed time:821.6896s\n",
            "Epoch [4/5], Step[280/918], Avg Loss:4.8135, Perplexity:9.0747, Elapsed time:826.3833s\n",
            "Epoch [4/5], Step[300/918], Avg Loss:5.1558, Perplexity:8.2138, Elapsed time:831.0818s\n",
            "Epoch [4/5], Step[320/918], Avg Loss:5.4965, Perplexity:8.8972, Elapsed time:835.7935s\n",
            "Epoch [4/5], Step[340/918], Avg Loss:5.8399, Perplexity:8.9585, Elapsed time:840.4745s\n",
            "Epoch [4/5], Step[360/918], Avg Loss:6.1865, Perplexity:9.5232, Elapsed time:845.1369s\n",
            "Epoch [4/5], Step[380/918], Avg Loss:6.5278, Perplexity:8.2239, Elapsed time:849.8219s\n",
            "Epoch [4/5], Step[400/918], Avg Loss:6.8741, Perplexity:8.9257, Elapsed time:854.4893s\n",
            "Epoch [4/5], Step[420/918], Avg Loss:7.2183, Perplexity:9.7358, Elapsed time:859.1429s\n",
            "Epoch [4/5], Step[440/918], Avg Loss:7.5619, Perplexity:9.8640, Elapsed time:863.8095s\n",
            "Epoch [4/5], Step[460/918], Avg Loss:7.9018, Perplexity:9.0835, Elapsed time:868.5047s\n",
            "Epoch [4/5], Step[480/918], Avg Loss:8.2444, Perplexity:8.7446, Elapsed time:873.2179s\n",
            "Epoch [4/5], Step[500/918], Avg Loss:8.5853, Perplexity:8.0417, Elapsed time:877.9223s\n",
            "Epoch [4/5], Step[520/918], Avg Loss:8.9262, Perplexity:8.3059, Elapsed time:882.5875s\n",
            "Epoch [4/5], Step[540/918], Avg Loss:9.2717, Perplexity:8.3770, Elapsed time:887.2990s\n",
            "Epoch [4/5], Step[560/918], Avg Loss:9.6158, Perplexity:8.9532, Elapsed time:891.9720s\n",
            "Epoch [4/5], Step[580/918], Avg Loss:9.9591, Perplexity:8.7309, Elapsed time:896.6405s\n",
            "Epoch [4/5], Step[600/918], Avg Loss:10.3039, Perplexity:8.8696, Elapsed time:901.3299s\n",
            "Epoch [4/5], Step[620/918], Avg Loss:10.6467, Perplexity:8.1537, Elapsed time:906.0049s\n",
            "Epoch [4/5], Step[640/918], Avg Loss:10.9894, Perplexity:9.1449, Elapsed time:910.6718s\n",
            "Epoch [4/5], Step[660/918], Avg Loss:11.3294, Perplexity:8.7475, Elapsed time:915.3760s\n",
            "Epoch [4/5], Step[680/918], Avg Loss:11.6736, Perplexity:8.7783, Elapsed time:920.0431s\n",
            "Epoch [4/5], Step[700/918], Avg Loss:12.0177, Perplexity:9.3627, Elapsed time:924.7107s\n",
            "Epoch [4/5], Step[720/918], Avg Loss:12.3631, Perplexity:8.9061, Elapsed time:929.3819s\n",
            "Epoch [4/5], Step[740/918], Avg Loss:12.7064, Perplexity:8.9743, Elapsed time:934.0456s\n",
            "Epoch [4/5], Step[760/918], Avg Loss:13.0472, Perplexity:8.3057, Elapsed time:938.7107s\n",
            "Epoch [4/5], Step[780/918], Avg Loss:13.3905, Perplexity:9.1028, Elapsed time:943.4015s\n",
            "Epoch [4/5], Step[800/918], Avg Loss:13.7332, Perplexity:8.9557, Elapsed time:948.0670s\n",
            "Epoch [4/5], Step[820/918], Avg Loss:14.0777, Perplexity:9.6452, Elapsed time:952.8077s\n",
            "Epoch [4/5], Step[840/918], Avg Loss:14.4194, Perplexity:9.3602, Elapsed time:957.4821s\n",
            "Epoch [4/5], Step[860/918], Avg Loss:14.7616, Perplexity:9.3431, Elapsed time:962.1619s\n",
            "Epoch [4/5], Step[880/918], Avg Loss:15.1056, Perplexity:8.7756, Elapsed time:966.8545s\n",
            "Epoch [4/5], Step[900/918], Avg Loss:15.4453, Perplexity:7.8815, Elapsed time:971.5147s\n",
            "Model saved : models/decoder-4.ckpt\n",
            "Model saved : models/encoder-4.ckpt\n",
            "[>>Validation<<]\n",
            "Epoch [4/5], Step [0/157], Average Loss: 0.0208, Perplexity: 14.3190, Elapsed time: 976.6704s\n",
            "Epoch [4/5], Step [20/157], Average Loss: 0.0195, Perplexity: 12.5344, Elapsed time: 981.1423s\n",
            "Epoch [4/5], Step [40/157], Average Loss: 0.0196, Perplexity: 13.3446, Elapsed time: 985.6067s\n",
            "Epoch [4/5], Step [60/157], Average Loss: 0.0197, Perplexity: 12.8351, Elapsed time: 990.0689s\n",
            "Epoch [4/5], Step [80/157], Average Loss: 0.0196, Perplexity: 12.3814, Elapsed time: 994.5271s\n",
            "Epoch [4/5], Step [100/157], Average Loss: 0.0196, Perplexity: 13.3386, Elapsed time: 998.9975s\n",
            "Epoch [4/5], Step [120/157], Average Loss: 0.0197, Perplexity: 14.0212, Elapsed time: 1003.4694s\n",
            "Epoch [4/5], Step [140/157], Average Loss: 0.0198, Perplexity: 15.0088, Elapsed time: 1007.9084s\n",
            "[>>Training<<]\n",
            "Epoch [5/5], Step[0/918], Avg Loss:0.0158, Perplexity:7.5606, Elapsed time:1012.1031s\n",
            "Epoch [5/5], Step[20/918], Avg Loss:0.3364, Perplexity:7.4853, Elapsed time:1016.8536s\n",
            "Epoch [5/5], Step[40/918], Avg Loss:0.6597, Perplexity:7.7358, Elapsed time:1021.5200s\n",
            "Epoch [5/5], Step[60/918], Avg Loss:0.9831, Perplexity:8.2961, Elapsed time:1026.1856s\n",
            "Epoch [5/5], Step[80/918], Avg Loss:1.3045, Perplexity:8.5366, Elapsed time:1030.9274s\n",
            "Epoch [5/5], Step[100/918], Avg Loss:1.6288, Perplexity:7.9751, Elapsed time:1035.5968s\n",
            "Epoch [5/5], Step[120/918], Avg Loss:1.9532, Perplexity:6.9509, Elapsed time:1040.3330s\n",
            "Epoch [5/5], Step[140/918], Avg Loss:2.2771, Perplexity:7.6792, Elapsed time:1045.0493s\n",
            "Epoch [5/5], Step[160/918], Avg Loss:2.6012, Perplexity:7.3967, Elapsed time:1049.7098s\n",
            "Epoch [5/5], Step[180/918], Avg Loss:2.9227, Perplexity:7.6335, Elapsed time:1054.3984s\n",
            "Epoch [5/5], Step[200/918], Avg Loss:3.2470, Perplexity:8.1456, Elapsed time:1059.0634s\n",
            "Epoch [5/5], Step[220/918], Avg Loss:3.5736, Perplexity:8.3546, Elapsed time:1063.7174s\n",
            "Epoch [5/5], Step[240/918], Avg Loss:3.8956, Perplexity:7.4799, Elapsed time:1068.4135s\n",
            "Epoch [5/5], Step[260/918], Avg Loss:4.2245, Perplexity:7.4956, Elapsed time:1073.0799s\n",
            "Epoch [5/5], Step[280/918], Avg Loss:4.5505, Perplexity:8.6419, Elapsed time:1077.7665s\n",
            "Epoch [5/5], Step[300/918], Avg Loss:4.8738, Perplexity:8.7577, Elapsed time:1082.4391s\n",
            "Epoch [5/5], Step[320/918], Avg Loss:5.2008, Perplexity:8.0825, Elapsed time:1087.0963s\n",
            "Epoch [5/5], Step[340/918], Avg Loss:5.5284, Perplexity:8.3617, Elapsed time:1091.7571s\n",
            "Epoch [5/5], Step[360/918], Avg Loss:5.8533, Perplexity:7.8956, Elapsed time:1096.4185s\n",
            "Epoch [5/5], Step[380/918], Avg Loss:6.1826, Perplexity:7.7213, Elapsed time:1101.0818s\n",
            "Epoch [5/5], Step[400/918], Avg Loss:6.5100, Perplexity:7.5132, Elapsed time:1105.7610s\n",
            "Epoch [5/5], Step[420/918], Avg Loss:6.8396, Perplexity:7.8061, Elapsed time:1110.4204s\n",
            "Epoch [5/5], Step[440/918], Avg Loss:7.1655, Perplexity:7.8709, Elapsed time:1115.0824s\n",
            "Epoch [5/5], Step[460/918], Avg Loss:7.4927, Perplexity:7.5384, Elapsed time:1119.7530s\n",
            "Epoch [5/5], Step[480/918], Avg Loss:7.8191, Perplexity:8.1517, Elapsed time:1124.4146s\n",
            "Epoch [5/5], Step[500/918], Avg Loss:8.1477, Perplexity:8.7150, Elapsed time:1129.0805s\n",
            "Epoch [5/5], Step[520/918], Avg Loss:8.4737, Perplexity:8.6126, Elapsed time:1133.8151s\n",
            "Epoch [5/5], Step[540/918], Avg Loss:8.8027, Perplexity:8.3018, Elapsed time:1138.4888s\n",
            "Epoch [5/5], Step[560/918], Avg Loss:9.1266, Perplexity:7.2781, Elapsed time:1143.1469s\n",
            "Epoch [5/5], Step[580/918], Avg Loss:9.4546, Perplexity:7.9811, Elapsed time:1147.8372s\n",
            "Epoch [5/5], Step[600/918], Avg Loss:9.7772, Perplexity:7.4394, Elapsed time:1152.5066s\n",
            "Epoch [5/5], Step[620/918], Avg Loss:10.1069, Perplexity:7.9090, Elapsed time:1157.2771s\n",
            "Epoch [5/5], Step[640/918], Avg Loss:10.4330, Perplexity:7.3870, Elapsed time:1161.9471s\n",
            "Epoch [5/5], Step[660/918], Avg Loss:10.7607, Perplexity:7.6876, Elapsed time:1166.6057s\n",
            "Epoch [5/5], Step[680/918], Avg Loss:11.0884, Perplexity:7.7426, Elapsed time:1171.3478s\n",
            "Epoch [5/5], Step[700/918], Avg Loss:11.4137, Perplexity:8.4403, Elapsed time:1176.0328s\n",
            "Epoch [5/5], Step[720/918], Avg Loss:11.7378, Perplexity:8.0697, Elapsed time:1180.6924s\n",
            "Epoch [5/5], Step[740/918], Avg Loss:12.0646, Perplexity:8.1523, Elapsed time:1185.3571s\n",
            "Epoch [5/5], Step[760/918], Avg Loss:12.3917, Perplexity:8.0991, Elapsed time:1190.0338s\n",
            "Epoch [5/5], Step[780/918], Avg Loss:12.7179, Perplexity:7.8110, Elapsed time:1194.7364s\n",
            "Epoch [5/5], Step[800/918], Avg Loss:13.0456, Perplexity:8.5242, Elapsed time:1199.4126s\n",
            "Epoch [5/5], Step[820/918], Avg Loss:13.3752, Perplexity:8.1873, Elapsed time:1204.0813s\n",
            "Epoch [5/5], Step[840/918], Avg Loss:13.7053, Perplexity:7.5297, Elapsed time:1208.8133s\n",
            "Epoch [5/5], Step[860/918], Avg Loss:14.0318, Perplexity:8.7970, Elapsed time:1213.4837s\n",
            "Epoch [5/5], Step[880/918], Avg Loss:14.3615, Perplexity:8.3311, Elapsed time:1218.1494s\n",
            "Epoch [5/5], Step[900/918], Avg Loss:14.6891, Perplexity:7.9718, Elapsed time:1222.8562s\n",
            "Model saved : models/decoder-5.ckpt\n",
            "Model saved : models/encoder-5.ckpt\n",
            "[>>Validation<<]\n",
            "Epoch [5/5], Step [0/157], Average Loss: 0.0207, Perplexity: 14.1023, Elapsed time: 1227.9745s\n",
            "Epoch [5/5], Step [20/157], Average Loss: 0.0194, Perplexity: 12.4958, Elapsed time: 1232.4754s\n",
            "Epoch [5/5], Step [40/157], Average Loss: 0.0195, Perplexity: 13.1074, Elapsed time: 1236.9546s\n",
            "Epoch [5/5], Step [60/157], Average Loss: 0.0196, Perplexity: 12.8334, Elapsed time: 1241.4272s\n",
            "Epoch [5/5], Step [80/157], Average Loss: 0.0195, Perplexity: 12.4724, Elapsed time: 1245.8873s\n",
            "Epoch [5/5], Step [100/157], Average Loss: 0.0196, Perplexity: 13.0994, Elapsed time: 1250.3445s\n",
            "Epoch [5/5], Step [120/157], Average Loss: 0.0196, Perplexity: 13.5803, Elapsed time: 1254.7993s\n",
            "Epoch [5/5], Step [140/157], Average Loss: 0.0197, Perplexity: 14.7388, Elapsed time: 1259.2692s\n"
          ]
        }
      ]
    },
    {
      "cell_type": "code",
      "source": [
        "# from google.colab import files\n",
        "# files.download('models/encoder-5.ckpt')\n",
        "# files.download('models/decoder-5.ckpt')"
      ],
      "metadata": {
        "id": "11TObNsepP1F"
      },
      "execution_count": null,
      "outputs": []
    },
    {
      "cell_type": "code",
      "source": [
        "# !wget https://postechackr-my.sharepoint.com/:u:/g/personal/dongbinna_postech_ac_kr/ERnDZFI8KD9OrX8rZGB4zucBLL1C2OQl5zdEIj9M23VH8A?download=1 -O nic_encoder_ResNet101.ckpt\n",
        "# !wget https://postechackr-my.sharepoint.com/:u:/g/personal/dongbinna_postech_ac_kr/EfpMfIRuTy1NndX8U7C70XMBmu6wd3JofEo5T-uyIP8YOA?download=1 -O nic_decoder_ResNet101.ckpt\n"
      ],
      "metadata": {
        "id": "B2ho5Q7SpP7o"
      },
      "execution_count": null,
      "outputs": []
    },
    {
      "cell_type": "code",
      "source": [
        "def load_image(image_path, transform=None):\n",
        "  image = Image.open(image_path).convert('RGB')\n",
        "  image = image.resize([224, 224], Image.LANCZOS)\n",
        "\n",
        "  if transform is not None:\n",
        "    image = transform(image).unsqueeze(0)\n",
        "  return image\n",
        "\n",
        "image_path = '/content/resized_test/images/5721131714.jpg'\n",
        "encoder_path = '/content/models/encoder-5.ckpt'\n",
        "decoder_path = '/content/models/decoder-5.ckpt'\n",
        "vocab_path = './vocab.pkl'\n",
        "\n",
        "embed_size = 256\n",
        "hidden_size = 512\n",
        "num_layers = 1"
      ],
      "metadata": {
        "id": "_0k5JDXO5Bai"
      },
      "execution_count": null,
      "outputs": []
    },
    {
      "cell_type": "code",
      "source": [
        "transform = transforms.Compose([\n",
        "    transforms.ToTensor(),\n",
        "    transforms.Normalize((0.485, 0.456, 0.406), (0.229, 0.224, 0.225))\n",
        "])\n",
        "\n",
        "with open(vocab_path, 'rb') as f:\n",
        "  vocab = pickle.load(f)\n",
        "\n",
        "encoder = EncoderCNN(embed_size).eval()\n",
        "decoder = DecoderRNN(embed_size, hidden_size, len(vocab), num_layers)\n",
        "encoder = encoder.to(device)\n",
        "decoder = decoder.to(device)\n",
        "\n",
        "encoder.load_state_dict(torch.load(encoder_path))\n",
        "decoder.load_state_dict(torch.load(decoder_path))\n",
        "\n",
        "image = load_image(image_path, transform)\n",
        "image_tensor = image.to(device)\n",
        "\n",
        "feature = encoder(image_tensor)\n",
        "sampled_ids = decoder.sample(feature)\n",
        "sampled_ids = sampled_ids[0].cpu().numpy()\n",
        "\n",
        "sampled_caption = []\n",
        "for word_id in sampled_ids:\n",
        "  word = vocab.idx2word[word_id]\n",
        "  sampled_caption.append(word)\n",
        "  if word == '<end>':\n",
        "    break\n",
        "sentence = ' '.join(sampled_caption)"
      ],
      "metadata": {
        "id": "gq1Igk1wpQAk"
      },
      "execution_count": null,
      "outputs": []
    },
    {
      "cell_type": "code",
      "source": [
        "sentence"
      ],
      "metadata": {
        "colab": {
          "base_uri": "https://localhost:8080/",
          "height": 36
        },
        "id": "mXkP6Z3GI4Wb",
        "outputId": "22e9a160-7d87-4c59-e7db-61c4929224ca"
      },
      "execution_count": null,
      "outputs": [
        {
          "output_type": "execute_result",
          "data": {
            "text/plain": [
              "'<start> 2 , a man in a black shirt is playing the guitar . <end>'"
            ],
            "application/vnd.google.colaboratory.intrinsic+json": {
              "type": "string"
            }
          },
          "metadata": {},
          "execution_count": 37
        }
      ]
    },
    {
      "cell_type": "code",
      "source": [
        "import matplotlib.pyplot as plt\n",
        "\n",
        "image = Image.open(image_path)\n",
        "plt.imshow(np.asarray(image))\n",
        "plt.show()\n",
        "print(sentence)"
      ],
      "metadata": {
        "colab": {
          "base_uri": "https://localhost:8080/",
          "height": 452
        },
        "id": "sIwFFbgxWLBa",
        "outputId": "78d0f7e8-37ac-4e3a-d5f5-9a9eb1afa386"
      },
      "execution_count": null,
      "outputs": [
        {
          "output_type": "display_data",
          "data": {
            "text/plain": [
              "<Figure size 640x480 with 1 Axes>"
            ],
            "image/png": "[encoded data removed]"
          },
          "metadata": {}
        },
        {
          "output_type": "stream",
          "name": "stdout",
          "text": [
            "<start> 2 , a man in a black shirt is playing the guitar . <end>\n"
          ]
        }
      ]
    },
    {
      "cell_type": "code",
      "source": [],
      "metadata": {
        "id": "TaY4F7NL_qy9"
      },
      "execution_count": null,
      "outputs": []
    },
    {
      "cell_type": "code",
      "source": [],
      "metadata": {
        "id": "GBjQR3HdnDRJ"
      },
      "execution_count": null,
      "outputs": []
    }
  ]
}