{
  "cells": [
    {
      "cell_type": "markdown",
      "id": "b0a2d006",
      "metadata": {
        "id": "b0a2d006"
      },
      "source": [
        "# Tensor 연산"
      ]
    },
    {
      "cell_type": "code",
      "execution_count": 1,
      "id": "a47ff13a",
      "metadata": {
        "id": "a47ff13a"
      },
      "outputs": [],
      "source": [
        "import tensorflow as tf"
      ]
    },
    {
      "cell_type": "markdown",
      "id": "7a1c90c4",
      "metadata": {
        "id": "7a1c90c4"
      },
      "source": [
        "아래의 기본 연산은 특수 메서드를 이용하여 연산자 오버로딩이 되어 있으므로 그냥 연산자 기호를 사용하는게 가능!\n",
        "\n",
        "* `tf.add`: 덧셈\n",
        "* `tf.subtract`: 뺄셈\n",
        "* `tf.multiply`: 곱셈\n",
        "* `tf.divide`: 나눗셈\n",
        "* `tf.pow`: n-제곱\n",
        "* `tf.negative`: 음수 부호\n"
      ]
    },
    {
      "cell_type": "code",
      "execution_count": 2,
      "id": "8ece8410",
      "metadata": {
        "colab": {
          "base_uri": "https://localhost:8080/"
        },
        "id": "8ece8410",
        "outputId": "77e542ac-e275-4f5e-cae7-144522d3495a"
      },
      "outputs": [
        {
          "output_type": "execute_result",
          "data": {
            "text/plain": [
              "<tf.Tensor: shape=(6,), dtype=int32, numpy=array([2, 3, 4, 5, 6, 7], dtype=int32)>"
            ]
          },
          "metadata": {},
          "execution_count": 2
        }
      ],
      "source": [
        "a = tf.range(6, dtype=tf.int32)\n",
        "b = 2 * tf.ones(6, dtype=tf.int32)\n",
        "\n",
        "tf.add(a, b)"
      ]
    },
    {
      "cell_type": "code",
      "execution_count": 3,
      "id": "c76d5938",
      "metadata": {
        "colab": {
          "base_uri": "https://localhost:8080/"
        },
        "id": "c76d5938",
        "outputId": "0f3356d7-94ec-42e1-e668-5be7041fc12b"
      },
      "outputs": [
        {
          "output_type": "execute_result",
          "data": {
            "text/plain": [
              "<tf.Tensor: shape=(6,), dtype=int32, numpy=array([2, 3, 4, 5, 6, 7], dtype=int32)>"
            ]
          },
          "metadata": {},
          "execution_count": 3
        }
      ],
      "source": [
        "a + b"
      ]
    },
    {
      "cell_type": "code",
      "execution_count": 3,
      "id": "bfd89a77",
      "metadata": {
        "id": "bfd89a77"
      },
      "outputs": [],
      "source": []
    },
    {
      "cell_type": "markdown",
      "id": "64f5dc6e",
      "metadata": {
        "id": "64f5dc6e"
      },
      "source": [
        "**여러가지 연산**\n",
        "\n",
        "* `tf.abs`: 절대값\n",
        "* `tf.sign`: 부호\n",
        "* `tf.round`: 반올림\n",
        "* `tf.ceil`: 올림\n",
        "* `tf.floor`: 내림\n",
        "* `tf.square`: 제곱\n",
        "* `tf.sqrt`: 제곱근\n",
        "* `tf.maximum`: 두 텐서의 각 원소에서 최댓값만 반환.\n",
        "* `tf.minimum`: 두 텐서의 각 원소에서 최솟값만 반환.\n",
        "* `tf.cumsum`: 누적합\n",
        "* `tf.cumprod`: 누적곱\n"
      ]
    },
    {
      "cell_type": "code",
      "execution_count": 4,
      "id": "2672b782",
      "metadata": {
        "colab": {
          "base_uri": "https://localhost:8080/"
        },
        "id": "2672b782",
        "outputId": "3253838f-72a9-4d50-9788-82b6b0408c51"
      },
      "outputs": [
        {
          "output_type": "execute_result",
          "data": {
            "text/plain": [
              "<tf.Tensor: shape=(6,), dtype=int32, numpy=array([2, 2, 2, 3, 4, 5], dtype=int32)>"
            ]
          },
          "metadata": {},
          "execution_count": 4
        }
      ],
      "source": [
        "tf.maximum(a, b)"
      ]
    },
    {
      "cell_type": "code",
      "execution_count": 4,
      "id": "5a703ca5",
      "metadata": {
        "id": "5a703ca5"
      },
      "outputs": [],
      "source": []
    },
    {
      "cell_type": "markdown",
      "id": "b7aa8914",
      "metadata": {
        "id": "b7aa8914"
      },
      "source": [
        "#### Axis 이해하기"
      ]
    },
    {
      "cell_type": "code",
      "execution_count": 5,
      "id": "35fb668d",
      "metadata": {
        "id": "35fb668d"
      },
      "outputs": [],
      "source": [
        "rank_2 = tf.random.normal((3, 3))"
      ]
    },
    {
      "cell_type": "code",
      "execution_count": 6,
      "id": "8cb367b7",
      "metadata": {
        "colab": {
          "base_uri": "https://localhost:8080/"
        },
        "id": "8cb367b7",
        "outputId": "8e33da64-a70c-44e3-af45-b26f9ae46f88"
      },
      "outputs": [
        {
          "output_type": "execute_result",
          "data": {
            "text/plain": [
              "<tf.Tensor: shape=(3, 3), dtype=float32, numpy=\n",
              "array([[ 0.03136346, -0.80681604,  0.19710521],\n",
              "       [ 0.9664774 , -0.7884808 , -0.6580173 ],\n",
              "       [-0.79263896, -1.1426497 ,  1.1991194 ]], dtype=float32)>"
            ]
          },
          "metadata": {},
          "execution_count": 6
        }
      ],
      "source": [
        "rank_2"
      ]
    },
    {
      "cell_type": "code",
      "execution_count": 7,
      "id": "887c9ebf",
      "metadata": {
        "colab": {
          "base_uri": "https://localhost:8080/"
        },
        "id": "887c9ebf",
        "outputId": "47b20351-5bbb-460b-9f65-1164f7c1f6f4"
      },
      "outputs": [
        {
          "output_type": "execute_result",
          "data": {
            "text/plain": [
              "<tf.Tensor: shape=(3,), dtype=float32, numpy=array([ 0.03136346, -0.80681604,  0.19710521], dtype=float32)>"
            ]
          },
          "metadata": {},
          "execution_count": 7
        }
      ],
      "source": [
        "rank_2[0]"
      ]
    },
    {
      "cell_type": "code",
      "execution_count": 8,
      "id": "d6e00ecb",
      "metadata": {
        "colab": {
          "base_uri": "https://localhost:8080/"
        },
        "id": "d6e00ecb",
        "outputId": "ea7eb229-baa6-4ed6-f8b3-3010584d49d7"
      },
      "outputs": [
        {
          "output_type": "execute_result",
          "data": {
            "text/plain": [
              "<tf.Tensor: shape=(), dtype=float32, numpy=0.03136346>"
            ]
          },
          "metadata": {},
          "execution_count": 8
        }
      ],
      "source": [
        "rank_2[0, 0]"
      ]
    },
    {
      "cell_type": "code",
      "execution_count": 8,
      "id": "ebfb703f",
      "metadata": {
        "id": "ebfb703f"
      },
      "outputs": [],
      "source": []
    },
    {
      "cell_type": "code",
      "execution_count": 9,
      "id": "a8e2bc76",
      "metadata": {
        "id": "a8e2bc76"
      },
      "outputs": [],
      "source": [
        "rank_3 = tf.random.normal((3, 3, 3))"
      ]
    },
    {
      "cell_type": "code",
      "execution_count": 10,
      "id": "b521b95b",
      "metadata": {
        "colab": {
          "base_uri": "https://localhost:8080/"
        },
        "id": "b521b95b",
        "outputId": "e9acf491-16ad-4f3e-f6e9-cc9f06b15727"
      },
      "outputs": [
        {
          "output_type": "execute_result",
          "data": {
            "text/plain": [
              "<tf.Tensor: shape=(3, 3, 3), dtype=float32, numpy=\n",
              "array([[[-0.27332327, -0.29570046, -0.2768901 ],\n",
              "        [ 2.289374  , -1.4415187 , -0.7046093 ],\n",
              "        [ 1.9637772 ,  0.5766597 , -1.0870825 ]],\n",
              "\n",
              "       [[-0.30871943,  1.6242074 , -0.56803346],\n",
              "        [ 1.338942  ,  0.16558863, -1.9459119 ],\n",
              "        [ 0.19500704,  0.3411417 ,  0.4522926 ]],\n",
              "\n",
              "       [[ 0.03696585, -0.7880044 , -0.66169226],\n",
              "        [-0.743536  ,  0.99831676, -1.3999386 ],\n",
              "        [-0.851995  , -0.11317895, -0.3043217 ]]], dtype=float32)>"
            ]
          },
          "metadata": {},
          "execution_count": 10
        }
      ],
      "source": [
        "rank_3"
      ]
    },
    {
      "cell_type": "code",
      "execution_count": 10,
      "id": "58af702a",
      "metadata": {
        "id": "58af702a"
      },
      "outputs": [],
      "source": []
    },
    {
      "cell_type": "code",
      "execution_count": 11,
      "id": "beed0411",
      "metadata": {
        "id": "beed0411"
      },
      "outputs": [],
      "source": [
        "rank_4 = tf.random.normal((3, 3, 3, 3))"
      ]
    },
    {
      "cell_type": "code",
      "execution_count": 12,
      "id": "14a9b29a",
      "metadata": {
        "colab": {
          "base_uri": "https://localhost:8080/"
        },
        "id": "14a9b29a",
        "outputId": "960d7a49-c454-41e5-ca35-facdc0b9653a"
      },
      "outputs": [
        {
          "output_type": "execute_result",
          "data": {
            "text/plain": [
              "<tf.Tensor: shape=(3, 3, 3, 3), dtype=float32, numpy=\n",
              "array([[[[-0.9094843 , -1.034508  , -1.3004289 ],\n",
              "         [-1.7539141 , -0.232938  ,  0.12617634],\n",
              "         [-0.38601002,  0.69840974,  0.01375935]],\n",
              "\n",
              "        [[ 0.1840541 ,  0.7283121 , -0.181765  ],\n",
              "         [ 0.25419262, -1.0991135 ,  1.1651949 ],\n",
              "         [-0.09891643,  0.23026213,  1.2013762 ]],\n",
              "\n",
              "        [[-3.4220855 ,  0.99202853,  1.8695016 ],\n",
              "         [-0.6135304 , -0.3340123 ,  0.8727263 ],\n",
              "         [ 0.2245716 ,  0.12712295, -0.698049  ]]],\n",
              "\n",
              "\n",
              "       [[[-0.02593638, -0.8616296 , -1.0686133 ],\n",
              "         [-0.9329005 , -0.44818887,  1.7689141 ],\n",
              "         [ 0.93001306,  0.01030262,  0.704607  ]],\n",
              "\n",
              "        [[ 0.2888123 , -0.0512911 ,  0.31852433],\n",
              "         [-0.08366559,  0.26390845,  0.23467241],\n",
              "         [-0.8115626 , -1.4978572 ,  0.5692983 ]],\n",
              "\n",
              "        [[ 0.3562928 ,  1.2289641 , -0.18591376],\n",
              "         [ 0.5861924 ,  0.2374711 , -1.5998375 ],\n",
              "         [ 0.15923774, -0.03146991,  0.15096964]]],\n",
              "\n",
              "\n",
              "       [[[-1.3205129 ,  0.3827837 , -0.72436064],\n",
              "         [ 1.4422147 ,  2.0798254 , -0.62061137],\n",
              "         [-0.20944403,  0.720201  ,  1.9232186 ]],\n",
              "\n",
              "        [[ 0.577109  , -0.36906466,  0.35008782],\n",
              "         [-1.3849549 ,  1.398714  , -1.0969963 ],\n",
              "         [-1.3440391 ,  0.21638499,  1.9125713 ]],\n",
              "\n",
              "        [[ 0.22951026,  0.9173845 ,  0.37545905],\n",
              "         [ 0.1715189 , -0.6639137 , -0.69965404],\n",
              "         [ 0.23588571,  0.15786564,  0.95135766]]]], dtype=float32)>"
            ]
          },
          "metadata": {},
          "execution_count": 12
        }
      ],
      "source": [
        "rank_4"
      ]
    },
    {
      "cell_type": "raw",
      "id": "8ebb58e7",
      "metadata": {
        "id": "8ebb58e7"
      },
      "source": []
    },
    {
      "cell_type": "code",
      "execution_count": 13,
      "id": "a988bf20",
      "metadata": {
        "colab": {
          "base_uri": "https://localhost:8080/"
        },
        "id": "a988bf20",
        "outputId": "11b0eca8-ffc8-45ab-fd8a-057f0870bea0"
      },
      "outputs": [
        {
          "output_type": "execute_result",
          "data": {
            "text/plain": [
              "<tf.Tensor: shape=(), dtype=float32, numpy=-1.0686133>"
            ]
          },
          "metadata": {},
          "execution_count": 13
        }
      ],
      "source": [
        "rank_4[1,0,0,2]"
      ]
    },
    {
      "cell_type": "markdown",
      "id": "2b50e10d",
      "metadata": {
        "id": "2b50e10d"
      },
      "source": [
        "**차원 축소 연산**\n",
        "\n",
        "* `tf.reduce_mean`: 설정한 축의 평균을 구한다.\n",
        "* `tf.reduce_max`: 설정한 축의 최댓값을 구한다.\n",
        "* `tf.reduce_min`: 설정한 축의 최솟값을 구한다.\n",
        "* `tf.reduce_prod`: 설정한 축의 요소를 모두 곱한 값을 구한다.\n",
        "* `tf.reduce_sum`: 설정한 축의 요소를 모두 더한 값을 구한다."
      ]
    },
    {
      "cell_type": "code",
      "source": [
        "a"
      ],
      "metadata": {
        "colab": {
          "base_uri": "https://localhost:8080/"
        },
        "id": "5mderoS4Ly0c",
        "outputId": "6e3f5100-34c6-48a6-a2b7-f12b202055da"
      },
      "id": "5mderoS4Ly0c",
      "execution_count": 14,
      "outputs": [
        {
          "output_type": "execute_result",
          "data": {
            "text/plain": [
              "<tf.Tensor: shape=(6,), dtype=int32, numpy=array([0, 1, 2, 3, 4, 5], dtype=int32)>"
            ]
          },
          "metadata": {},
          "execution_count": 14
        }
      ]
    },
    {
      "cell_type": "code",
      "execution_count": null,
      "id": "a4056a5f",
      "metadata": {
        "id": "a4056a5f",
        "outputId": "1dbb52d1-4dfb-4f5f-b996-68daacdde1ab"
      },
      "outputs": [
        {
          "data": {
            "text/plain": [
              "(<tf.Tensor: shape=(), dtype=int32, numpy=15>,)"
            ]
          },
          "execution_count": 13,
          "metadata": {},
          "output_type": "execute_result"
        }
      ],
      "source": [
        "tf.reduce_sum(a, axis=0),"
      ]
    },
    {
      "cell_type": "code",
      "execution_count": 15,
      "id": "0bd4e0b3",
      "metadata": {
        "colab": {
          "base_uri": "https://localhost:8080/"
        },
        "id": "0bd4e0b3",
        "outputId": "bd2b7fb4-648b-4d07-c55a-683fdf860769"
      },
      "outputs": [
        {
          "output_type": "execute_result",
          "data": {
            "text/plain": [
              "(<tf.Tensor: shape=(1,), dtype=int32, numpy=array([15], dtype=int32)>,)"
            ]
          },
          "metadata": {},
          "execution_count": 15
        }
      ],
      "source": [
        "tf.reduce_sum(a, axis=0, keepdims=True),"
      ]
    },
    {
      "cell_type": "code",
      "execution_count": 16,
      "id": "cdc61ead",
      "metadata": {
        "colab": {
          "base_uri": "https://localhost:8080/"
        },
        "id": "cdc61ead",
        "outputId": "5e9d0991-edfd-4c00-c175-bcdd323abd06"
      },
      "outputs": [
        {
          "output_type": "execute_result",
          "data": {
            "text/plain": [
              "<tf.Tensor: shape=(2, 7), dtype=float32, numpy=\n",
              "array([[-0.8909374 , -1.0296777 , -0.4370198 ,  1.2866362 ,  1.6367208 ,\n",
              "        -0.19578207, -1.1975374 ],\n",
              "       [-0.37514788,  1.0672107 ,  1.2432306 ,  0.7920304 , -0.24542458,\n",
              "         0.57577497, -1.222402  ]], dtype=float32)>"
            ]
          },
          "metadata": {},
          "execution_count": 16
        }
      ],
      "source": [
        "b = tf.random.normal(((2,7)))\n",
        "b"
      ]
    },
    {
      "cell_type": "code",
      "source": [
        "tf.reduce_mean(b, axis=0)"
      ],
      "metadata": {
        "colab": {
          "base_uri": "https://localhost:8080/"
        },
        "id": "NZLo1Z-yMwKX",
        "outputId": "9ad58ce3-e975-48cd-b75e-9856d61eb51a"
      },
      "id": "NZLo1Z-yMwKX",
      "execution_count": 18,
      "outputs": [
        {
          "output_type": "execute_result",
          "data": {
            "text/plain": [
              "<tf.Tensor: shape=(7,), dtype=float32, numpy=\n",
              "array([-0.63304263,  0.01876646,  0.40310538,  1.0393333 ,  0.6956481 ,\n",
              "        0.18999645, -1.2099698 ], dtype=float32)>"
            ]
          },
          "metadata": {},
          "execution_count": 18
        }
      ]
    },
    {
      "cell_type": "code",
      "source": [
        "tf.reduce_mean(b, axis=1)"
      ],
      "metadata": {
        "colab": {
          "base_uri": "https://localhost:8080/"
        },
        "id": "nw8polY5NF3Y",
        "outputId": "e063bce2-cbdd-4e9d-c581-b35e045d7f91"
      },
      "id": "nw8polY5NF3Y",
      "execution_count": 19,
      "outputs": [
        {
          "output_type": "execute_result",
          "data": {
            "text/plain": [
              "<tf.Tensor: shape=(2,), dtype=float32, numpy=array([-0.11822821,  0.26218173], dtype=float32)>"
            ]
          },
          "metadata": {},
          "execution_count": 19
        }
      ]
    },
    {
      "cell_type": "code",
      "source": [
        "c = tf.random.normal(((4,3,2)))\n",
        "c"
      ],
      "metadata": {
        "colab": {
          "base_uri": "https://localhost:8080/"
        },
        "id": "qnY3QRRPRizR",
        "outputId": "59a19058-e89c-4b71-a30c-bff9dc5410b6"
      },
      "id": "qnY3QRRPRizR",
      "execution_count": 23,
      "outputs": [
        {
          "output_type": "execute_result",
          "data": {
            "text/plain": [
              "<tf.Tensor: shape=(4, 3, 2), dtype=float32, numpy=\n",
              "array([[[-1.4439391 ,  1.43478   ],\n",
              "        [-0.40267417, -0.8865361 ],\n",
              "        [ 0.5919033 , -0.16411342]],\n",
              "\n",
              "       [[ 0.20529386,  0.6946342 ],\n",
              "        [-0.4838849 ,  0.26178002],\n",
              "        [-0.1867889 , -0.516961  ]],\n",
              "\n",
              "       [[ 0.56147254, -0.7324238 ],\n",
              "        [ 0.9019852 , -0.2844219 ],\n",
              "        [ 2.2929747 ,  1.8368094 ]],\n",
              "\n",
              "       [[-0.38310438,  0.9853673 ],\n",
              "        [-1.9115652 , -1.1130351 ],\n",
              "        [ 1.293921  , -1.3552474 ]]], dtype=float32)>"
            ]
          },
          "metadata": {},
          "execution_count": 23
        }
      ]
    },
    {
      "cell_type": "code",
      "source": [
        "tf.reduce_mean(c, axis=0)"
      ],
      "metadata": {
        "colab": {
          "base_uri": "https://localhost:8080/"
        },
        "id": "U3FNzdi3Rnba",
        "outputId": "bbb5c527-661d-44bd-edc0-f9f31b344057"
      },
      "id": "U3FNzdi3Rnba",
      "execution_count": 24,
      "outputs": [
        {
          "output_type": "execute_result",
          "data": {
            "text/plain": [
              "<tf.Tensor: shape=(3, 2), dtype=float32, numpy=\n",
              "array([[-0.26506925,  0.5955894 ],\n",
              "       [-0.47403476, -0.50555325],\n",
              "       [ 0.9980025 , -0.04987809]], dtype=float32)>"
            ]
          },
          "metadata": {},
          "execution_count": 24
        }
      ]
    },
    {
      "cell_type": "code",
      "source": [
        "tf.reduce_mean(c, axis=1)"
      ],
      "metadata": {
        "colab": {
          "base_uri": "https://localhost:8080/"
        },
        "id": "2IjLIasjSMlH",
        "outputId": "7d8107de-d59b-4206-d090-1e18903dd840"
      },
      "id": "2IjLIasjSMlH",
      "execution_count": 25,
      "outputs": [
        {
          "output_type": "execute_result",
          "data": {
            "text/plain": [
              "<tf.Tensor: shape=(4, 2), dtype=float32, numpy=\n",
              "array([[-0.41823664,  0.12804349],\n",
              "       [-0.15512665,  0.14648442],\n",
              "       [ 1.2521442 ,  0.27332124],\n",
              "       [-0.33358288, -0.49430504]], dtype=float32)>"
            ]
          },
          "metadata": {},
          "execution_count": 25
        }
      ]
    },
    {
      "cell_type": "code",
      "source": [
        "tf.reduce_mean(c, axis=2)"
      ],
      "metadata": {
        "colab": {
          "base_uri": "https://localhost:8080/"
        },
        "id": "ebG1QjnNSYxN",
        "outputId": "422755c9-f846-4a69-c7db-55faa0f6b8a8"
      },
      "id": "ebG1QjnNSYxN",
      "execution_count": 26,
      "outputs": [
        {
          "output_type": "execute_result",
          "data": {
            "text/plain": [
              "<tf.Tensor: shape=(4, 3), dtype=float32, numpy=\n",
              "array([[-0.00457954, -0.64460516,  0.21389496],\n",
              "       [ 0.44996405, -0.11105244, -0.35187495],\n",
              "       [-0.08547562,  0.30878168,  2.064892  ],\n",
              "       [ 0.30113146, -1.5123001 , -0.03066319]], dtype=float32)>"
            ]
          },
          "metadata": {},
          "execution_count": 26
        }
      ]
    },
    {
      "cell_type": "markdown",
      "id": "6719bd69",
      "metadata": {
        "id": "6719bd69"
      },
      "source": [
        "행렬과 관련된 연산\n",
        "\n",
        "* `tf.matmul`: 내적\n",
        "* `tf.linalg.inv`: 역행렬\n"
      ]
    },
    {
      "cell_type": "code",
      "execution_count": 20,
      "id": "d38b9776",
      "metadata": {
        "colab": {
          "base_uri": "https://localhost:8080/"
        },
        "id": "d38b9776",
        "outputId": "7e7eec46-6ee3-46ea-a9e8-f58e51fa07c9"
      },
      "outputs": [
        {
          "output_type": "execute_result",
          "data": {
            "text/plain": [
              "<tf.Tensor: shape=(2, 2), dtype=float32, numpy=\n",
              "array([[2., 2.],\n",
              "       [1., 1.]], dtype=float32)>"
            ]
          },
          "metadata": {},
          "execution_count": 20
        }
      ],
      "source": [
        "a = tf.constant([[2, 0], [0, 1]], dtype=tf.float32)\n",
        "b = tf.constant([[1, 1], [1, 1]], dtype=tf.float32)\n",
        "tf.matmul(a, b)"
      ]
    },
    {
      "cell_type": "code",
      "source": [
        "a,b"
      ],
      "metadata": {
        "colab": {
          "base_uri": "https://localhost:8080/"
        },
        "id": "MlJb2T53RBs7",
        "outputId": "78216604-294f-4c72-9760-2fae1f6ffc58"
      },
      "id": "MlJb2T53RBs7",
      "execution_count": 21,
      "outputs": [
        {
          "output_type": "execute_result",
          "data": {
            "text/plain": [
              "(<tf.Tensor: shape=(2, 2), dtype=float32, numpy=\n",
              " array([[2., 0.],\n",
              "        [0., 1.]], dtype=float32)>,\n",
              " <tf.Tensor: shape=(2, 2), dtype=float32, numpy=\n",
              " array([[1., 1.],\n",
              "        [1., 1.]], dtype=float32)>)"
            ]
          },
          "metadata": {},
          "execution_count": 21
        }
      ]
    },
    {
      "cell_type": "code",
      "execution_count": 28,
      "id": "8af1362b",
      "metadata": {
        "colab": {
          "base_uri": "https://localhost:8080/"
        },
        "id": "8af1362b",
        "outputId": "e33a8fc8-d707-410d-f2eb-22f018bafb89"
      },
      "outputs": [
        {
          "output_type": "execute_result",
          "data": {
            "text/plain": [
              "<tf.Tensor: shape=(2, 2), dtype=float32, numpy=\n",
              "array([[0.5, 0. ],\n",
              "       [0. , 1. ]], dtype=float32)>"
            ]
          },
          "metadata": {},
          "execution_count": 28
        }
      ],
      "source": [
        "a = tf.constant([[2, 0], [0, 1]], dtype=tf.float32)\n",
        "tf.linalg.inv(a)"
      ]
    },
    {
      "cell_type": "code",
      "execution_count": 28,
      "id": "1d89cc35",
      "metadata": {
        "id": "1d89cc35"
      },
      "outputs": [],
      "source": []
    },
    {
      "cell_type": "markdown",
      "id": "b253bf69",
      "metadata": {
        "id": "b253bf69"
      },
      "source": [
        "**크기 및 차원을 바꾸는 명령**\n",
        " (잘 사용됩니다!!)\n",
        "\n",
        "이를 사용 할 때는 축을 잘 이해하고 사용하시면 좋습니다.\n",
        "\n",
        "* `tf.reshape`: 벡터 행렬의 크기 변환\n",
        "* `tf.transpose`: 전치 연산\n",
        "* `tf.expand_dims`: 지정한 축으로 차원을 추가\n",
        "* `tf.squeeze`: 벡터로 차원을 축소"
      ]
    },
    {
      "cell_type": "code",
      "execution_count": 27,
      "id": "e542cd66",
      "metadata": {
        "scrolled": false,
        "colab": {
          "base_uri": "https://localhost:8080/"
        },
        "id": "e542cd66",
        "outputId": "1f37a2d1-5dfb-48fa-9506-f2851ce83beb"
      },
      "outputs": [
        {
          "output_type": "stream",
          "name": "stdout",
          "text": [
            "a     : tf.Tensor([0 1 2 3 4 5], shape=(6,), dtype=int32) \n",
            "\n",
            "a_2d  : tf.Tensor(\n",
            "[[0 1 2]\n",
            " [3 4 5]], shape=(2, 3), dtype=int32) \n",
            "\n",
            "a_2d_t: tf.Tensor(\n",
            "[[0 3]\n",
            " [1 4]\n",
            " [2 5]], shape=(3, 2), dtype=int32) \n",
            "\n",
            "a_3d  : tf.Tensor(\n",
            "[[[0 1 2]\n",
            "  [3 4 5]]], shape=(1, 2, 3), dtype=int32) \n",
            "\n",
            "a_4d  : tf.Tensor(\n",
            "[[[[0]\n",
            "   [1]\n",
            "   [2]]\n",
            "\n",
            "  [[3]\n",
            "   [4]\n",
            "   [5]]]], shape=(1, 2, 3, 1), dtype=int32) \n",
            "\n",
            "a_1d  : tf.Tensor(\n",
            "[[0 1 2]\n",
            " [3 4 5]], shape=(2, 3), dtype=int32) \n",
            "\n"
          ]
        }
      ],
      "source": [
        "a = tf.range(6, dtype=tf.int32)      # [0, 1, 2, 3, 4, 5]\n",
        "print(\"a     :\", a, \"\\n\")\n",
        "a_2d = tf.reshape(a, (2, 3))  # 1차원 벡터는 2x3 크기의 2차원 행렬로 변환\n",
        "print(\"a_2d  :\", a_2d, \"\\n\")\n",
        "a_2d_t = tf.transpose(a_2d)   # 2x3 크기의 2차원 행렬을 3x2 크기의 2차원 행렬로 변환\n",
        "print(\"a_2d_t:\", a_2d_t, \"\\n\")\n",
        "a_3d = tf.expand_dims(a_2d, 0) # 2x3 크기의 2차원 행렬을 1x2x3 크기의 3차원 행렬로 변환\n",
        "print(\"a_3d  :\", a_3d, \"\\n\")\n",
        "a_4d = tf.expand_dims(a_3d, 3) # 1x2x3 크기의 3차원 행렬을 1x2x3x1 크기의 4차원 행렬로 변환\n",
        "print(\"a_4d  :\", a_4d, \"\\n\")\n",
        "a_1d = tf.squeeze(a_4d)\n",
        "print(\"a_1d  :\", a_1d, \"\\n\")   # 1x2x3x1 크기의 4차원 행렬을 1차원 벡터로 변환"
      ]
    },
    {
      "cell_type": "code",
      "execution_count": null,
      "id": "a2151df1",
      "metadata": {
        "id": "a2151df1"
      },
      "outputs": [],
      "source": []
    },
    {
      "cell_type": "markdown",
      "id": "a28010f6",
      "metadata": {
        "id": "a28010f6"
      },
      "source": [
        "**텐서를 나누거나 두 개 이상의 텐서를 합치는 명령**\n",
        "\n",
        "* `tf.slice`: 특정 부분을 추출\n",
        "* `tf.split`: 분할\n",
        "* `tf.concat`: 합치기\n",
        "* `tf.tile`: 복제-붙이기\n",
        "* `tf.stack`: 합성\n",
        "* `tf.unstack`: 분리"
      ]
    },
    {
      "cell_type": "code",
      "execution_count": 29,
      "id": "43b6714a",
      "metadata": {
        "colab": {
          "base_uri": "https://localhost:8080/"
        },
        "id": "43b6714a",
        "outputId": "92d33517-1961-4ef3-b997-f851a392a4d3"
      },
      "outputs": [
        {
          "output_type": "execute_result",
          "data": {
            "text/plain": [
              "<tf.Tensor: shape=(3, 4), dtype=int32, numpy=\n",
              "array([[ 0,  1,  2,  3],\n",
              "       [ 4,  5,  6,  7],\n",
              "       [ 8,  9, 10, 11]], dtype=int32)>"
            ]
          },
          "metadata": {},
          "execution_count": 29
        }
      ],
      "source": [
        "a = tf.reshape(tf.range(12), (3, 4))\n",
        "a"
      ]
    },
    {
      "cell_type": "code",
      "execution_count": 30,
      "id": "64f3f37d",
      "metadata": {
        "colab": {
          "base_uri": "https://localhost:8080/"
        },
        "id": "64f3f37d",
        "outputId": "b9ca7d1a-fff1-4f9b-88f1-ab4539734d18"
      },
      "outputs": [
        {
          "output_type": "execute_result",
          "data": {
            "text/plain": [
              "<tf.Tensor: shape=(2, 3), dtype=int32, numpy=\n",
              "array([[1, 2, 3],\n",
              "       [5, 6, 7]], dtype=int32)>"
            ]
          },
          "metadata": {},
          "execution_count": 30
        }
      ],
      "source": [
        "tf.slice(a, [0, 1], [2, 3])   # (0, 1)위치에서 (2개, 3개)만큼 뽑아낸다."
      ]
    },
    {
      "cell_type": "code",
      "execution_count": 31,
      "id": "aa42eeb3",
      "metadata": {
        "colab": {
          "base_uri": "https://localhost:8080/"
        },
        "id": "aa42eeb3",
        "outputId": "774abca6-bba3-411e-e02f-36450453b54e"
      },
      "outputs": [
        {
          "output_type": "stream",
          "name": "stdout",
          "text": [
            "tf.Tensor(\n",
            "[[0 1]\n",
            " [4 5]\n",
            " [8 9]], shape=(3, 2), dtype=int32)\n",
            "tf.Tensor(\n",
            "[[ 2  3]\n",
            " [ 6  7]\n",
            " [10 11]], shape=(3, 2), dtype=int32)\n"
          ]
        }
      ],
      "source": [
        "a1, a2 = tf.split(a, num_or_size_splits=2, axis=1)  # 가로축(axis=1)을 따라 2개로 분할\n",
        "print(a1)\n",
        "print(a2)"
      ]
    },
    {
      "cell_type": "code",
      "execution_count": 32,
      "id": "db1ca1d0",
      "metadata": {
        "colab": {
          "base_uri": "https://localhost:8080/"
        },
        "id": "db1ca1d0",
        "outputId": "5bf677c9-0fd8-4c1e-a80a-9c2faa9d092a"
      },
      "outputs": [
        {
          "output_type": "execute_result",
          "data": {
            "text/plain": [
              "<tf.Tensor: shape=(3, 4), dtype=int32, numpy=\n",
              "array([[ 0,  1,  2,  3],\n",
              "       [ 4,  5,  6,  7],\n",
              "       [ 8,  9, 10, 11]], dtype=int32)>"
            ]
          },
          "metadata": {},
          "execution_count": 32
        }
      ],
      "source": [
        "tf.concat([a1, a2], 1) # 가로축(axis=1)을 따라 a1, a2를 합치기"
      ]
    },
    {
      "cell_type": "code",
      "execution_count": 33,
      "id": "26922c48",
      "metadata": {
        "colab": {
          "base_uri": "https://localhost:8080/"
        },
        "id": "26922c48",
        "outputId": "2a4fe051-331e-4bdb-879f-f8b897c00e85"
      },
      "outputs": [
        {
          "output_type": "execute_result",
          "data": {
            "text/plain": [
              "<tf.Tensor: shape=(3, 6), dtype=int32, numpy=\n",
              "array([[0, 1, 0, 1, 0, 1],\n",
              "       [4, 5, 4, 5, 4, 5],\n",
              "       [8, 9, 8, 9, 8, 9]], dtype=int32)>"
            ]
          },
          "metadata": {},
          "execution_count": 33
        }
      ],
      "source": [
        "tf.tile(a1, [1, 3])  # 가로축(axis=1)을 따라 3개로 복사-붙이기"
      ]
    },
    {
      "cell_type": "code",
      "execution_count": 34,
      "id": "383dc585",
      "metadata": {
        "colab": {
          "base_uri": "https://localhost:8080/"
        },
        "id": "383dc585",
        "outputId": "3c74a5c4-8481-4048-f1df-a33f1296742e"
      },
      "outputs": [
        {
          "output_type": "execute_result",
          "data": {
            "text/plain": [
              "<tf.Tensor: shape=(2, 3, 2), dtype=int32, numpy=\n",
              "array([[[ 0,  1],\n",
              "        [ 4,  5],\n",
              "        [ 8,  9]],\n",
              "\n",
              "       [[ 2,  3],\n",
              "        [ 6,  7],\n",
              "        [10, 11]]], dtype=int32)>"
            ]
          },
          "metadata": {},
          "execution_count": 34
        }
      ],
      "source": [
        "a3 = tf.stack([a1, a2])  # 3x2 행렬 a1, a2를 추가적인 차원으로 붙여서 2x3x2 고차원 텐서 생성\n",
        "a3"
      ]
    },
    {
      "cell_type": "code",
      "execution_count": 35,
      "id": "2759d577",
      "metadata": {
        "colab": {
          "base_uri": "https://localhost:8080/"
        },
        "id": "2759d577",
        "outputId": "9622b823-b10d-465c-d1d6-74c0e0c51efd"
      },
      "outputs": [
        {
          "output_type": "execute_result",
          "data": {
            "text/plain": [
              "[<tf.Tensor: shape=(2, 2), dtype=int32, numpy=\n",
              " array([[0, 1],\n",
              "        [2, 3]], dtype=int32)>,\n",
              " <tf.Tensor: shape=(2, 2), dtype=int32, numpy=\n",
              " array([[4, 5],\n",
              "        [6, 7]], dtype=int32)>,\n",
              " <tf.Tensor: shape=(2, 2), dtype=int32, numpy=\n",
              " array([[ 8,  9],\n",
              "        [10, 11]], dtype=int32)>]"
            ]
          },
          "metadata": {},
          "execution_count": 35
        }
      ],
      "source": [
        "tf.unstack(a3, axis=1)  # 2x3x2 고차원 텐서를 0차원으로 풀어서 3개의 2x2 행렬 생성"
      ]
    },
    {
      "cell_type": "code",
      "execution_count": 35,
      "id": "609e5fea",
      "metadata": {
        "id": "609e5fea"
      },
      "outputs": [],
      "source": []
    },
    {
      "cell_type": "markdown",
      "id": "0111dfac",
      "metadata": {
        "id": "0111dfac"
      },
      "source": [
        "#### 간단 퀴즈\n",
        "\n",
        "다음 코드를 에러 없이 실행하라."
      ]
    },
    {
      "cell_type": "code",
      "execution_count": 42,
      "id": "b05ad9e0",
      "metadata": {
        "colab": {
          "base_uri": "https://localhost:8080/",
          "height": 373
        },
        "id": "b05ad9e0",
        "outputId": "f5d0276b-de02-4560-adcd-39923187ec02"
      },
      "outputs": [
        {
          "output_type": "error",
          "ename": "InvalidArgumentError",
          "evalue": "ignored",
          "traceback": [
            "\u001b[0;31m---------------------------------------------------------------------------\u001b[0m",
            "\u001b[0;31mInvalidArgumentError\u001b[0m                      Traceback (most recent call last)",
            "\u001b[0;32m<ipython-input-42-1d1bfe7e3e4f>\u001b[0m in \u001b[0;36m<cell line: 4>\u001b[0;34m()\u001b[0m\n\u001b[1;32m      2\u001b[0m \u001b[0mb\u001b[0m \u001b[0;34m=\u001b[0m \u001b[0mtf\u001b[0m\u001b[0;34m.\u001b[0m\u001b[0mconstant\u001b[0m\u001b[0;34m(\u001b[0m\u001b[0;34m[\u001b[0m\u001b[0;36m1\u001b[0m\u001b[0;34m,\u001b[0m \u001b[0;36m2\u001b[0m\u001b[0;34m,\u001b[0m \u001b[0;36m3\u001b[0m\u001b[0;34m]\u001b[0m\u001b[0;34m)\u001b[0m\u001b[0;34m\u001b[0m\u001b[0;34m\u001b[0m\u001b[0m\n\u001b[1;32m      3\u001b[0m \u001b[0;34m\u001b[0m\u001b[0m\n\u001b[0;32m----> 4\u001b[0;31m \u001b[0mtf\u001b[0m\u001b[0;34m.\u001b[0m\u001b[0mmatmul\u001b[0m\u001b[0;34m(\u001b[0m\u001b[0ma\u001b[0m\u001b[0;34m,\u001b[0m \u001b[0mb\u001b[0m\u001b[0;34m)\u001b[0m\u001b[0;34m\u001b[0m\u001b[0;34m\u001b[0m\u001b[0m\n\u001b[0m",
            "\u001b[0;32m/usr/local/lib/python3.10/dist-packages/tensorflow/python/util/traceback_utils.py\u001b[0m in \u001b[0;36merror_handler\u001b[0;34m(*args, **kwargs)\u001b[0m\n\u001b[1;32m    151\u001b[0m     \u001b[0;32mexcept\u001b[0m \u001b[0mException\u001b[0m \u001b[0;32mas\u001b[0m \u001b[0me\u001b[0m\u001b[0;34m:\u001b[0m\u001b[0;34m\u001b[0m\u001b[0;34m\u001b[0m\u001b[0m\n\u001b[1;32m    152\u001b[0m       \u001b[0mfiltered_tb\u001b[0m \u001b[0;34m=\u001b[0m \u001b[0m_process_traceback_frames\u001b[0m\u001b[0;34m(\u001b[0m\u001b[0me\u001b[0m\u001b[0;34m.\u001b[0m\u001b[0m__traceback__\u001b[0m\u001b[0;34m)\u001b[0m\u001b[0;34m\u001b[0m\u001b[0;34m\u001b[0m\u001b[0m\n\u001b[0;32m--> 153\u001b[0;31m       \u001b[0;32mraise\u001b[0m \u001b[0me\u001b[0m\u001b[0;34m.\u001b[0m\u001b[0mwith_traceback\u001b[0m\u001b[0;34m(\u001b[0m\u001b[0mfiltered_tb\u001b[0m\u001b[0;34m)\u001b[0m \u001b[0;32mfrom\u001b[0m \u001b[0;32mNone\u001b[0m\u001b[0;34m\u001b[0m\u001b[0;34m\u001b[0m\u001b[0m\n\u001b[0m\u001b[1;32m    154\u001b[0m     \u001b[0;32mfinally\u001b[0m\u001b[0;34m:\u001b[0m\u001b[0;34m\u001b[0m\u001b[0;34m\u001b[0m\u001b[0m\n\u001b[1;32m    155\u001b[0m       \u001b[0;32mdel\u001b[0m \u001b[0mfiltered_tb\u001b[0m\u001b[0;34m\u001b[0m\u001b[0;34m\u001b[0m\u001b[0m\n",
            "\u001b[0;32m/usr/local/lib/python3.10/dist-packages/tensorflow/python/framework/ops.py\u001b[0m in \u001b[0;36mraise_from_not_ok_status\u001b[0;34m(e, name)\u001b[0m\n\u001b[1;32m   5886\u001b[0m \u001b[0;32mdef\u001b[0m \u001b[0mraise_from_not_ok_status\u001b[0m\u001b[0;34m(\u001b[0m\u001b[0me\u001b[0m\u001b[0;34m,\u001b[0m \u001b[0mname\u001b[0m\u001b[0;34m)\u001b[0m \u001b[0;34m->\u001b[0m \u001b[0mNoReturn\u001b[0m\u001b[0;34m:\u001b[0m\u001b[0;34m\u001b[0m\u001b[0;34m\u001b[0m\u001b[0m\n\u001b[1;32m   5887\u001b[0m   \u001b[0me\u001b[0m\u001b[0;34m.\u001b[0m\u001b[0mmessage\u001b[0m \u001b[0;34m+=\u001b[0m \u001b[0;34m(\u001b[0m\u001b[0;34m\" name: \"\u001b[0m \u001b[0;34m+\u001b[0m \u001b[0mstr\u001b[0m\u001b[0;34m(\u001b[0m\u001b[0mname\u001b[0m \u001b[0;32mif\u001b[0m \u001b[0mname\u001b[0m \u001b[0;32mis\u001b[0m \u001b[0;32mnot\u001b[0m \u001b[0;32mNone\u001b[0m \u001b[0;32melse\u001b[0m \u001b[0;34m\"\"\u001b[0m\u001b[0;34m)\u001b[0m\u001b[0;34m)\u001b[0m\u001b[0;34m\u001b[0m\u001b[0;34m\u001b[0m\u001b[0m\n\u001b[0;32m-> 5888\u001b[0;31m   \u001b[0;32mraise\u001b[0m \u001b[0mcore\u001b[0m\u001b[0;34m.\u001b[0m\u001b[0m_status_to_exception\u001b[0m\u001b[0;34m(\u001b[0m\u001b[0me\u001b[0m\u001b[0;34m)\u001b[0m \u001b[0;32mfrom\u001b[0m \u001b[0;32mNone\u001b[0m  \u001b[0;31m# pylint: disable=protected-access\u001b[0m\u001b[0;34m\u001b[0m\u001b[0;34m\u001b[0m\u001b[0m\n\u001b[0m\u001b[1;32m   5889\u001b[0m \u001b[0;34m\u001b[0m\u001b[0m\n\u001b[1;32m   5890\u001b[0m \u001b[0;34m\u001b[0m\u001b[0m\n",
            "\u001b[0;31mInvalidArgumentError\u001b[0m: {{function_node __wrapped__MatMul_device_/job:localhost/replica:0/task:0/device:CPU:0}} In[0] and In[1] has different ndims: [2,3] vs. [3] [Op:MatMul] name: "
          ]
        }
      ],
      "source": [
        "a = tf.constant(((1, 2, 3), (1, 2, 3)))\n",
        "b = tf.constant([1, 2, 3])\n",
        "\n",
        "tf.matmul(a, b)"
      ]
    },
    {
      "cell_type": "code",
      "source": [
        "tf.matmul()"
      ],
      "metadata": {
        "id": "DHnrwQAzj6no"
      },
      "id": "DHnrwQAzj6no",
      "execution_count": null,
      "outputs": []
    },
    {
      "cell_type": "code",
      "execution_count": null,
      "id": "d9124f61",
      "metadata": {
        "id": "d9124f61"
      },
      "outputs": [],
      "source": []
    },
    {
      "cell_type": "code",
      "execution_count": null,
      "id": "8691f37b",
      "metadata": {
        "id": "8691f37b"
      },
      "outputs": [],
      "source": []
    },
    {
      "cell_type": "code",
      "execution_count": null,
      "id": "e4ff63b7",
      "metadata": {
        "id": "e4ff63b7"
      },
      "outputs": [],
      "source": []
    }
  ],
  "metadata": {
    "kernelspec": {
      "display_name": "Python 3",
      "name": "python3"
    },
    "language_info": {
      "codemirror_mode": {
        "name": "ipython",
        "version": 3
      },
      "file_extension": ".py",
      "mimetype": "text/x-python",
      "name": "python",
      "nbconvert_exporter": "python",
      "pygments_lexer": "ipython3",
      "version": "3.9.9"
    },
    "toc": {
      "base_numbering": 1,
      "nav_menu": {},
      "number_sections": true,
      "sideBar": true,
      "skip_h1_title": false,
      "title_cell": "Table of Contents",
      "title_sidebar": "Contents",
      "toc_cell": false,
      "toc_position": {
        "height": "calc(100% - 180px)",
        "left": "10px",
        "top": "150px",
        "width": "205.312px"
      },
      "toc_section_display": true,
      "toc_window_display": true
    },
    "varInspector": {
      "cols": {
        "lenName": 16,
        "lenType": 16,
        "lenVar": 40
      },
      "kernels_config": {
        "python": {
          "delete_cmd_postfix": "",
          "delete_cmd_prefix": "del ",
          "library": "var_list.py",
          "varRefreshCmd": "print(var_dic_list())"
        },
        "r": {
          "delete_cmd_postfix": ") ",
          "delete_cmd_prefix": "rm(",
          "library": "var_list.r",
          "varRefreshCmd": "cat(var_dic_list()) "
        }
      },
      "types_to_exclude": [
        "module",
        "function",
        "builtin_function_or_method",
        "instance",
        "_Feature"
      ],
      "window_display": false
    },
    "colab": {
      "provenance": [],
      "machine_shape": "hm",
      "gpuType": "T4"
    },
    "accelerator": "GPU"
  },
  "nbformat": 4,
  "nbformat_minor": 5
}